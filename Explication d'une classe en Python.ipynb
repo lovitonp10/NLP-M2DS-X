{
 "cells": [
  {
   "cell_type": "code",
   "execution_count": 5,
   "id": "6d6162d5-5182-45c5-bec9-35e2c8b3093f",
   "metadata": {},
   "outputs": [
    {
     "name": "stdout",
     "output_type": "stream",
     "text": [
      "<class '__main__.User'>\n",
      "toto\n",
      "mot de passe\n"
     ]
    }
   ],
   "source": [
    "class User:   # class\n",
    "    \n",
    "    name = ''    # propriété\n",
    "    \n",
    "    def __init__(self, name):     # constructeur avec method init \n",
    "        \n",
    "        self.name = name\n",
    "    \n",
    "    def setPassword(self, pwd):     # nouvelle method\n",
    "        \n",
    "        self.password = pwd\n",
    "        \n",
    "User('toto')   # objet créé en mémoire de type user, avec propriété name = 'toto'\n",
    "u = User('toto')  # objet peut être affecté à une variable\n",
    "\n",
    "print(type(u))    # type = instance / <class '__main__.User'>\n",
    "\n",
    "print(u.name)\n",
    "\n",
    "\n",
    "u.setPassword('mot de passe')    # accès à cette méthode\n",
    "print(u.password)"
   ]
  }
 ],
 "metadata": {
  "kernelspec": {
   "display_name": "Python 3 (ipykernel)",
   "language": "python",
   "name": "python3"
  },
  "language_info": {
   "codemirror_mode": {
    "name": "ipython",
    "version": 3
   },
   "file_extension": ".py",
   "mimetype": "text/x-python",
   "name": "python",
   "nbconvert_exporter": "python",
   "pygments_lexer": "ipython3",
   "version": "3.9.7"
  }
 },
 "nbformat": 4,
 "nbformat_minor": 5
}
