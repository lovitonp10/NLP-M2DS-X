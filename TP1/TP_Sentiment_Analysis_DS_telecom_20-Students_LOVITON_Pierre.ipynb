{
 "cells": [
  {
   "cell_type": "markdown",
   "id": "bb9af7be",
   "metadata": {},
   "source": [
    "# TP : Sentiment analysis on IMDB movie reviews\n",
    "\n",
    "## Objectives:\n",
    "\n",
    "1. Use a simple way to represent textual data - Bag of words and test it with a simple model for a sentiment classification task - Naïve Bayesian\n",
    "2. Explore improvements to these simple representations\n",
    "3. Implement various methods to obtain dense representations (word embeddings) of the same data\n",
    "4. Test these new representations with a simple classification model"
   ]
  },
  {
   "cell_type": "markdown",
   "id": "e4c7af15",
   "metadata": {},
   "source": [
    "## Necessary dependancies\n",
    "\n",
    "We will need the following packages:\n",
    "- The Machine Learning API Scikit-learn : http://scikit-learn.org/stable/install.html\n",
    "- The Natural Language Toolkit : http://www.nltk.org/install.html\n",
    "\n",
    "Both are available with Anaconda: https://anaconda.org/anaconda/nltk and https://anaconda.org/anaconda/scikit-learn"
   ]
  },
  {
   "cell_type": "code",
   "execution_count": 1,
   "id": "079ef84c",
   "metadata": {},
   "outputs": [],
   "source": [
    "import os.path as op\n",
    "import re \n",
    "import numpy as np\n",
    "import matplotlib.pyplot as plt"
   ]
  },
  {
   "cell_type": "markdown",
   "id": "0a147280",
   "metadata": {},
   "source": [
    "## Loading data\n",
    "\n",
    "We retrieve the textual data in the variable *texts*.\n",
    "\n",
    "The labels are retrieved in the variable $y$ - it contains *len(texts)* of them: $0$ indicates that the corresponding review is negative while $1$ indicates that it is positive."
   ]
  },
  {
   "cell_type": "code",
   "execution_count": 2,
   "id": "9340ff7d",
   "metadata": {},
   "outputs": [
    {
     "data": {
      "text/plain": [
       "'\\ntest_labels = np.ones(len(test_texts), dtype=np.int)\\ntest_labels[:len(test_texts_neg)] = 0.\\n'"
      ]
     },
     "execution_count": 2,
     "metadata": {},
     "output_type": "execute_result"
    }
   ],
   "source": [
    "from glob import glob\n",
    "# We get the files from the path: ./aclImdb/train/neg for negative reviews, and ./aclImdb/train/pos for positive reviews\n",
    "train_filenames_neg = sorted(glob(op.join('.', 'aclImdb', 'train', 'neg', '*.txt')))\n",
    "train_filenames_pos = sorted(glob(op.join('.', 'aclImdb', 'train', 'pos', '*.txt')))\n",
    "\n",
    "\"\"\"\n",
    "test_filenames_neg = sorted(glob(op.join('.', 'aclImdb', 'test', 'neg', '*.txt')))\n",
    "test_filenames_pos = sorted(glob(op.join('.', 'aclImdb', 'test', 'pos', '*.txt')))\n",
    "\"\"\"\n",
    "\n",
    "# Each files contains a review that consists in one line of text: we put this string in two lists, that we concatenate\n",
    "train_texts_neg = [open(f, encoding=\"utf8\").read() for f in train_filenames_neg]\n",
    "train_texts_pos = [open(f, encoding=\"utf8\").read() for f in train_filenames_pos]\n",
    "train_texts = train_texts_neg + train_texts_pos\n",
    "\n",
    "\"\"\"\n",
    "test_texts_neg = [open(f, encoding=\"utf8\").read() for f in test_filenames_neg]\n",
    "test_texts_pos = [open(f, encoding=\"utf8\").read() for f in test_filenames_pos]\n",
    "test_texts = test_texts_neg + test_texts_pos\n",
    "\"\"\"\n",
    "\n",
    "# The first half of the elements of the list are string of negative reviews, and the second half positive ones\n",
    "# We create the labels, as an array of [1,len(texts)], filled with 1, and change the first half to 0\n",
    "train_labels = np.ones(len(train_texts), dtype=int)\n",
    "train_labels[:len(train_texts_neg)] = 0.\n",
    "\n",
    "\"\"\"\n",
    "test_labels = np.ones(len(test_texts), dtype=np.int)\n",
    "test_labels[:len(test_texts_neg)] = 0.\n",
    "\"\"\""
   ]
  },
  {
   "cell_type": "markdown",
   "id": "c0605d5b",
   "metadata": {},
   "source": [
    "Example of one document:"
   ]
  },
  {
   "cell_type": "code",
   "execution_count": 3,
   "id": "83da5919",
   "metadata": {},
   "outputs": [
    {
     "data": {
      "text/plain": [
       "\"Story of a man who has unnatural feelings for a pig. Starts out with a opening scene that is a terrific example of absurd comedy. A formal orchestra audience is turned into an insane, violent mob by the crazy chantings of it's singers. Unfortunately it stays absurd the WHOLE time with no general narrative eventually making it just too off putting. Even those from the era should be turned off. The cryptic dialogue would make Shakespeare seem easy to a third grader. On a technical level it's better than you might think with some good cinematography by future great Vilmos Zsigmond. Future stars Sally Kirkland and Frederic Forrest can be seen briefly.\""
      ]
     },
     "execution_count": 3,
     "metadata": {},
     "output_type": "execute_result"
    }
   ],
   "source": [
    "open(\"./aclImdb/train/neg/0_3.txt\", encoding=\"utf8\").read()"
   ]
  },
  {
   "cell_type": "markdown",
   "id": "0930e023",
   "metadata": {},
   "source": [
    "**In this lab, the impact of our choice of representations upon our results will also depend on the quantity of data we use:** try to see how changing the parameter ```k``` affects our results !"
   ]
  },
  {
   "cell_type": "code",
   "execution_count": 4,
   "id": "6f11d1f8",
   "metadata": {},
   "outputs": [
    {
     "name": "stdout",
     "output_type": "stream",
     "text": [
      "Number of documents: 250\n"
     ]
    }
   ],
   "source": [
    "# This number of documents may be high for most computers: we can select a fraction of them (here, one in k)\n",
    "# Use an even number to keep the same number of positive and negative reviews\n",
    "k = 100\n",
    "train_texts_reduced = train_texts[0::k]\n",
    "train_labels_reduced = train_labels[0::k]\n",
    "\n",
    "print('Number of documents:', len(train_texts_reduced))"
   ]
  },
  {
   "cell_type": "markdown",
   "id": "077226ba",
   "metadata": {},
   "source": [
    "We can use a function from sklearn, ```train_test_split```, to separate data into training and validation sets:"
   ]
  },
  {
   "cell_type": "code",
   "execution_count": 5,
   "id": "ff1da002",
   "metadata": {},
   "outputs": [],
   "source": [
    "from sklearn.model_selection import train_test_split"
   ]
  },
  {
   "cell_type": "code",
   "execution_count": 6,
   "id": "0c7f5643",
   "metadata": {},
   "outputs": [],
   "source": [
    "train_texts_splt, val_texts, train_labels_splt, val_labels = train_test_split(train_texts_reduced, train_labels_reduced, test_size=.2)"
   ]
  },
  {
   "cell_type": "markdown",
   "id": "4910da68",
   "metadata": {},
   "source": [
    "## 1 - Adapted representation of documents\n",
    "\n",
    "Our statistical model, like most models applied to textual data, uses counts of word occurrences in a document. Thus, a very convenient way to represent a document is to use a Bag-of-Words (BoW) vector, containing the counts of each word (regardless of their order of occurrence) in the document. \n",
    "\n",
    "If we consider the set of all the words appearing in our $T$ training documents, which we note $V$ (Vocabulary), we can create **an index**, which is a bijection associating to each $w$ word an integer, which will be its position in $V$. \n",
    "\n",
    "Thus, for a document extracted from a set of documents containing $|V|$ different words, a BoW representation will be a vector of size $|V|$, whose value at the index of a word $w$ will be its number of occurrences in the document. \n",
    "\n",
    "We can use the **CountVectorizer** class from scikit-learn to obtain these representations:"
   ]
  },
  {
   "cell_type": "code",
   "execution_count": 7,
   "id": "d295630f",
   "metadata": {},
   "outputs": [],
   "source": [
    "from sklearn.feature_extraction.text import CountVectorizer"
   ]
  },
  {
   "cell_type": "code",
   "execution_count": 8,
   "id": "3b3fcd3e",
   "metadata": {},
   "outputs": [
    {
     "name": "stdout",
     "output_type": "stream",
     "text": [
      "['avenue', 'boulevard', 'city', 'down', 'ran', 'the', 'walk', 'walked']\n"
     ]
    },
    {
     "name": "stderr",
     "output_type": "stream",
     "text": [
      "/Users/pierreloviton/opt/anaconda3/lib/python3.9/site-packages/sklearn/utils/deprecation.py:87: FutureWarning: Function get_feature_names is deprecated; get_feature_names is deprecated in 1.0 and will be removed in 1.2. Please use get_feature_names_out instead.\n",
      "  warnings.warn(msg, category=FutureWarning)\n"
     ]
    },
    {
     "data": {
      "text/plain": [
       "array([[0, 1, 0, 2, 0, 1, 0, 1],\n",
       "       [1, 0, 0, 1, 0, 1, 0, 1],\n",
       "       [0, 1, 0, 1, 1, 1, 0, 0],\n",
       "       [0, 0, 1, 1, 0, 1, 1, 0],\n",
       "       [1, 0, 0, 1, 0, 2, 1, 0]])"
      ]
     },
     "execution_count": 8,
     "metadata": {},
     "output_type": "execute_result"
    }
   ],
   "source": [
    "corpus = ['I walked down down the boulevard',\n",
    "          'I walked down the avenue',\n",
    "          'I ran down the boulevard',\n",
    "          'I walk down the city',\n",
    "          'I walk down the the avenue']\n",
    "vectorizer = CountVectorizer()\n",
    "\n",
    "Bow = vectorizer.fit_transform(corpus)\n",
    "\n",
    "print(vectorizer.get_feature_names())\n",
    "Bow.toarray()"
   ]
  },
  {
   "cell_type": "markdown",
   "id": "902d06c4",
   "metadata": {},
   "source": [
    "<div class='alert alert-block alert-info'>\n",
    "            Code:</div>"
   ]
  },
  {
   "cell_type": "code",
   "execution_count": 9,
   "id": "4283d07a",
   "metadata": {},
   "outputs": [
    {
     "name": "stdout",
     "output_type": "stream",
     "text": [
      "(200, 6787)\n",
      "(50, 6787)\n"
     ]
    }
   ],
   "source": [
    "# Create and fit the vectorizer to the training data\n",
    "vectorizer = CountVectorizer(max_features=30000)\n",
    "\n",
    "train_bow = vectorizer.fit_transform(train_texts_splt)\n",
    "print(train_bow.shape)\n",
    "\n",
    "# Transform the validation data\n",
    "val_bow = vectorizer.transform(val_texts)\n",
    "print(val_bow.shape)\n",
    "\n"
   ]
  },
  {
   "cell_type": "markdown",
   "id": "27d8b9bc",
   "metadata": {},
   "source": [
    "<div class='alert alert-block alert-warning'>\n",
    "            Question:</div>\n",
    "\n",
    "Careful: check the memory that the representations are going to use (given the way they are build). What ```CountVectorizer``` argument allows to avoid the issue ? "
   ]
  },
  {
   "cell_type": "markdown",
   "id": "7000dde2",
   "metadata": {},
   "source": [
    "We are going to use the scikit-learn ```MultinomialNB```, an implementation of the Naive Bayesian model.\n",
    "<div class='alert alert-block alert-info'>\n",
    "            Code:</div>"
   ]
  },
  {
   "cell_type": "code",
   "execution_count": 10,
   "id": "1cd31ca7",
   "metadata": {},
   "outputs": [
    {
     "data": {
      "image/png": "[encoded data removed]",
      "text/plain": [
       "<Figure size 432x288 with 2 Axes>"
      ]
     },
     "metadata": {
      "needs_background": "light"
     },
     "output_type": "display_data"
    }
   ],
   "source": [
    "from sklearn.naive_bayes import MultinomialNB\n",
    "# Fit the model on the training data\n",
    "MNB = MultinomialNB()\n",
    "MNB.fit(train_bow, train_labels_splt)\n",
    "\n",
    "from sklearn.metrics import confusion_matrix, ConfusionMatrixDisplay, classification_report\n",
    "# Test it on the validation data \n",
    "mnb_predict = MNB.predict(val_bow)\n",
    "mnb_conf_matrix = confusion_matrix(val_labels, mnb_predict)\n",
    "disp = ConfusionMatrixDisplay(confusion_matrix=mnb_conf_matrix)\n",
    "disp.plot()\n",
    "plt.show()"
   ]
  },
  {
   "cell_type": "code",
   "execution_count": 11,
   "id": "4af53276-88d2-4143-8740-75ef51f3a73b",
   "metadata": {},
   "outputs": [
    {
     "name": "stdout",
     "output_type": "stream",
     "text": [
      "              precision    recall  f1-score   support\n",
      "\n",
      "           0       0.56      0.95      0.70        20\n",
      "           1       0.94      0.50      0.65        30\n",
      "\n",
      "    accuracy                           0.68        50\n",
      "   macro avg       0.75      0.72      0.68        50\n",
      "weighted avg       0.79      0.68      0.67        50\n",
      "\n"
     ]
    }
   ],
   "source": [
    "print(classification_report(val_labels,mnb_predict))"
   ]
  },
  {
   "cell_type": "markdown",
   "id": "41d62628",
   "metadata": {},
   "source": [
    "<div class='alert alert-block alert-warning'>\n",
    "            Questions:</div>\n",
    "\n",
    "- Here, what is the naïve hypothesis ? \n",
    "- Let us look at the *features* built by the ```vectorizer```. How can we improve them ? "
   ]
  },
  {
   "cell_type": "code",
   "execution_count": 12,
   "id": "28a0206a",
   "metadata": {},
   "outputs": [
    {
     "name": "stdout",
     "output_type": "stream",
     "text": [
      "['000', '01', '10', '100', '11', '12', '14', '15', '16', '17', '180', '1840', '1840s', '1930s', '1940s', '1944', '1946', '1948', '1950', '1950s', '1953', '1954', '1959', '1960', '1960s', '1968', '1969', '1970', '1970s', '1971', '1973', '1974', '1977', '1978', '1979', '1980', '1981', '1982', '1983', '1984', '1985', '1989', '1991', '1993', '1994', '1995', '1996', '1997', '1998', '1999', '20', '2002', '2004', '2005', '2006', '2008', '2031', '22', '24', '25', '250', '269', '28', '29', '2nd', '30', '300', '30s', '35', '35mm', '37', '3d', '3rd', '40', '44', '45', '4m', '4th', '4w', '50', '5000', '50s', '5th', '60', '65', '70', '70mm', '70th', '73', '74', '750', '80', '80s', '90', '94', '99', '998', 'abandoned', 'abc', 'ability']\n"
     ]
    },
    {
     "name": "stderr",
     "output_type": "stream",
     "text": [
      "/Users/pierreloviton/opt/anaconda3/lib/python3.9/site-packages/sklearn/utils/deprecation.py:87: FutureWarning: Function get_feature_names is deprecated; get_feature_names is deprecated in 1.0 and will be removed in 1.2. Please use get_feature_names_out instead.\n",
      "  warnings.warn(msg, category=FutureWarning)\n"
     ]
    }
   ],
   "source": [
    "print(vectorizer.get_feature_names()[:100])"
   ]
  },
  {
   "cell_type": "raw",
   "id": "c75dd072-a574-409d-810c-dd713b1240f4",
   "metadata": {},
   "source": [
    "- We could imporve the features built by the vectorizer with lemmatization and stemmatization, because here we can see that a lot of numbers are duplicated or correspond to the same things."
   ]
  },
  {
   "cell_type": "markdown",
   "id": "cd9781e6",
   "metadata": {
    "tags": []
   },
   "source": [
    "## 2 - Improving representations\n",
    "\n",
    "### 2.A - By reweighting and filtering\n",
    "\n",
    "Mainly, the arguments of the class ```vectorizer``` will allow us to easily change the way our textual data is represented. Let us try to work on our *Bag-of-words* representations:\n",
    "   \n",
    "#### Do not take into account words that are too frequent:\n",
    "\n",
    "You can use the argument ```max_df=1.0``` to change the amount of words taken into account. \n",
    "\n",
    "#### Try different granularities:\n",
    "\n",
    "Rather than just counting words, we can count sequences of words - limited in size, of course. \n",
    "We call a sequence of $n$ words a $n$-gram: let's try using 2 and 3-grams (bi- and trigrams).\n",
    "We can also try to use character sequences instead of word sequences.\n",
    "\n",
    "We will be interested in the options ```analyze='word'``` and ```ngram_range=(1, 2)``` which we'll change to alter the granularity. \n",
    "\n",
    "**Again: using these ways of getting more features from our text will probably have more impact if we do not have much training data to begin with !**\n",
    "\n",
    "To accelerate experiments, use the ```Pipeline``` tool from scikit-learn. "
   ]
  },
  {
   "cell_type": "code",
   "execution_count": 13,
   "id": "704909e5",
   "metadata": {},
   "outputs": [
    {
     "data": {
      "text/html": [
       "<style>#sk-container-id-1 {color: black;background-color: white;}#sk-container-id-1 pre{padding: 0;}#sk-container-id-1 div.sk-toggleable {background-color: white;}#sk-container-id-1 label.sk-toggleable__label {cursor: pointer;display: block;width: 100%;margin-bottom: 0;padding: 0.3em;box-sizing: border-box;text-align: center;}#sk-container-id-1 label.sk-toggleable__label-arrow:before {content: \"▸\";float: left;margin-right: 0.25em;color: #696969;}#sk-container-id-1 label.sk-toggleable__label-arrow:hover:before {color: black;}#sk-container-id-1 div.sk-estimator:hover label.sk-toggleable__label-arrow:before {color: black;}#sk-container-id-1 div.sk-toggleable__content {max-height: 0;max-width: 0;overflow: hidden;text-align: left;background-color: #f0f8ff;}#sk-container-id-1 div.sk-toggleable__content pre {margin: 0.2em;color: black;border-radius: 0.25em;background-color: #f0f8ff;}#sk-container-id-1 input.sk-toggleable__control:checked~div.sk-toggleable__content {max-height: 200px;max-width: 100%;overflow: auto;}#sk-container-id-1 input.sk-toggleable__control:checked~label.sk-toggleable__label-arrow:before {content: \"▾\";}#sk-container-id-1 div.sk-estimator input.sk-toggleable__control:checked~label.sk-toggleable__label {background-color: #d4ebff;}#sk-container-id-1 div.sk-label input.sk-toggleable__control:checked~label.sk-toggleable__label {background-color: #d4ebff;}#sk-container-id-1 input.sk-hidden--visually {border: 0;clip: rect(1px 1px 1px 1px);clip: rect(1px, 1px, 1px, 1px);height: 1px;margin: -1px;overflow: hidden;padding: 0;position: absolute;width: 1px;}#sk-container-id-1 div.sk-estimator {font-family: monospace;background-color: #f0f8ff;border: 1px dotted black;border-radius: 0.25em;box-sizing: border-box;margin-bottom: 0.5em;}#sk-container-id-1 div.sk-estimator:hover {background-color: #d4ebff;}#sk-container-id-1 div.sk-parallel-item::after {content: \"\";width: 100%;border-bottom: 1px solid gray;flex-grow: 1;}#sk-container-id-1 div.sk-label:hover label.sk-toggleable__label {background-color: #d4ebff;}#sk-container-id-1 div.sk-serial::before {content: \"\";position: absolute;border-left: 1px solid gray;box-sizing: border-box;top: 0;bottom: 0;left: 50%;z-index: 0;}#sk-container-id-1 div.sk-serial {display: flex;flex-direction: column;align-items: center;background-color: white;padding-right: 0.2em;padding-left: 0.2em;position: relative;}#sk-container-id-1 div.sk-item {position: relative;z-index: 1;}#sk-container-id-1 div.sk-parallel {display: flex;align-items: stretch;justify-content: center;background-color: white;position: relative;}#sk-container-id-1 div.sk-item::before, #sk-container-id-1 div.sk-parallel-item::before {content: \"\";position: absolute;border-left: 1px solid gray;box-sizing: border-box;top: 0;bottom: 0;left: 50%;z-index: -1;}#sk-container-id-1 div.sk-parallel-item {display: flex;flex-direction: column;z-index: 1;position: relative;background-color: white;}#sk-container-id-1 div.sk-parallel-item:first-child::after {align-self: flex-end;width: 50%;}#sk-container-id-1 div.sk-parallel-item:last-child::after {align-self: flex-start;width: 50%;}#sk-container-id-1 div.sk-parallel-item:only-child::after {width: 0;}#sk-container-id-1 div.sk-dashed-wrapped {border: 1px dashed gray;margin: 0 0.4em 0.5em 0.4em;box-sizing: border-box;padding-bottom: 0.4em;background-color: white;}#sk-container-id-1 div.sk-label label {font-family: monospace;font-weight: bold;display: inline-block;line-height: 1.2em;}#sk-container-id-1 div.sk-label-container {text-align: center;}#sk-container-id-1 div.sk-container {/* jupyter's `normalize.less` sets `[hidden] { display: none; }` but bootstrap.min.css set `[hidden] { display: none !important; }` so we also need the `!important` here to be able to override the default hidden behavior on the sphinx rendered scikit-learn.org. See: https://github.com/scikit-learn/scikit-learn/issues/21755 */display: inline-block !important;position: relative;}#sk-container-id-1 div.sk-text-repr-fallback {display: none;}</style><div id=\"sk-container-id-1\" class=\"sk-top-container\"><div class=\"sk-text-repr-fallback\"><pre>Pipeline(steps=[(&#x27;vect&#x27;, CountVectorizer(max_df=30000)),\n",
       "                (&#x27;clf&#x27;, MultinomialNB())])</pre><b>In a Jupyter environment, please rerun this cell to show the HTML representation or trust the notebook. <br />On GitHub, the HTML representation is unable to render, please try loading this page with nbviewer.org.</b></div><div class=\"sk-container\" hidden><div class=\"sk-item sk-dashed-wrapped\"><div class=\"sk-label-container\"><div class=\"sk-label sk-toggleable\"><input class=\"sk-toggleable__control sk-hidden--visually\" id=\"sk-estimator-id-1\" type=\"checkbox\" ><label for=\"sk-estimator-id-1\" class=\"sk-toggleable__label sk-toggleable__label-arrow\">Pipeline</label><div class=\"sk-toggleable__content\"><pre>Pipeline(steps=[(&#x27;vect&#x27;, CountVectorizer(max_df=30000)),\n",
       "                (&#x27;clf&#x27;, MultinomialNB())])</pre></div></div></div><div class=\"sk-serial\"><div class=\"sk-item\"><div class=\"sk-estimator sk-toggleable\"><input class=\"sk-toggleable__control sk-hidden--visually\" id=\"sk-estimator-id-2\" type=\"checkbox\" ><label for=\"sk-estimator-id-2\" class=\"sk-toggleable__label sk-toggleable__label-arrow\">CountVectorizer</label><div class=\"sk-toggleable__content\"><pre>CountVectorizer(max_df=30000)</pre></div></div></div><div class=\"sk-item\"><div class=\"sk-estimator sk-toggleable\"><input class=\"sk-toggleable__control sk-hidden--visually\" id=\"sk-estimator-id-3\" type=\"checkbox\" ><label for=\"sk-estimator-id-3\" class=\"sk-toggleable__label sk-toggleable__label-arrow\">MultinomialNB</label><div class=\"sk-toggleable__content\"><pre>MultinomialNB()</pre></div></div></div></div></div></div></div>"
      ],
      "text/plain": [
       "Pipeline(steps=[('vect', CountVectorizer(max_df=30000)),\n",
       "                ('clf', MultinomialNB())])"
      ]
     },
     "execution_count": 13,
     "metadata": {},
     "output_type": "execute_result"
    }
   ],
   "source": [
    "from sklearn.pipeline import Pipeline\n",
    "\n",
    "pipeline_base = Pipeline([\n",
    "    ('vect', CountVectorizer(max_df=30000, analyzer='word', stop_words=None)),\n",
    "    ('clf', MultinomialNB()),\n",
    "])\n",
    "\n",
    "pipeline_base.fit(train_texts_splt, train_labels_splt)\n"
   ]
  },
  {
   "cell_type": "markdown",
   "id": "31001236",
   "metadata": {},
   "source": [
    "<div class='alert alert-block alert-info'>\n",
    "            Code:</div>"
   ]
  },
  {
   "cell_type": "code",
   "execution_count": 14,
   "id": "5cef03b3",
   "metadata": {},
   "outputs": [
    {
     "data": {
      "image/png": "[encoded data removed]",
      "text/plain": [
       "<Figure size 432x288 with 2 Axes>"
      ]
     },
     "metadata": {
      "needs_background": "light"
     },
     "output_type": "display_data"
    },
    {
     "data": {
      "image/png": "[encoded data removed]",
      "text/plain": [
       "<Figure size 432x288 with 2 Axes>"
      ]
     },
     "metadata": {
      "needs_background": "light"
     },
     "output_type": "display_data"
    },
    {
     "data": {
      "image/png": "[encoded data removed]",
      "text/plain": [
       "<Figure size 432x288 with 2 Axes>"
      ]
     },
     "metadata": {
      "needs_background": "light"
     },
     "output_type": "display_data"
    },
    {
     "data": {
      "image/png": "[encoded data removed]",
      "text/plain": [
       "<Figure size 432x288 with 2 Axes>"
      ]
     },
     "metadata": {
      "needs_background": "light"
     },
     "output_type": "display_data"
    }
   ],
   "source": [
    "# Fit and test the pipeline\n",
    "pipeline1 = Pipeline([\n",
    "    ('vectorizer1', CountVectorizer(max_df=1.0, analyzer='word')),\n",
    "    ('mnb1', MultinomialNB()),\n",
    "])\n",
    "\n",
    "pipeline1.fit(train_texts_splt, train_labels_splt)\n",
    "pipeline1_predict = pipeline1.predict(val_texts)\n",
    "pipeline1_conf_matrix = confusion_matrix(val_labels, pipeline1_predict)\n",
    "disp1 = ConfusionMatrixDisplay(confusion_matrix=pipeline1_conf_matrix)\n",
    "disp1.plot()\n",
    "plt.show()\n",
    "\n",
    "# Fit and test a pipeline with bigrams,\n",
    "pipeline2 = Pipeline([\n",
    "    ('vectorizer2', CountVectorizer(max_df=1.0, analyzer='word', ngram_range=(1,2))),\n",
    "    ('mnb2', MultinomialNB()),\n",
    "])\n",
    "\n",
    "pipeline2.fit(train_texts_splt, train_labels_splt)\n",
    "pipeline2_predict = pipeline2.predict(val_texts)\n",
    "pipeline2_conf_matrix = confusion_matrix(val_labels, pipeline2_predict)\n",
    "disp2 = ConfusionMatrixDisplay(confusion_matrix=pipeline2_conf_matrix)\n",
    "disp2.plot()\n",
    "plt.show()\n",
    "\n",
    "\n",
    "# ... trigrams,\n",
    "pipeline3 = Pipeline([\n",
    "    ('vectorizer3', CountVectorizer(max_df=1.0, analyzer='word', ngram_range=(1,3))),\n",
    "    ('mnb3', MultinomialNB()),\n",
    "])\n",
    "\n",
    "pipeline3.fit(train_texts_splt, train_labels_splt)\n",
    "pipeline3_predict = pipeline3.predict(val_texts)\n",
    "pipeline3_conf_matrix = confusion_matrix(val_labels, pipeline3_predict)\n",
    "disp3 = ConfusionMatrixDisplay(confusion_matrix=pipeline3_conf_matrix)\n",
    "disp3.plot()\n",
    "plt.show()\n",
    "\n",
    "\n",
    "# ... and characters.\n",
    "pipeline4 = Pipeline([\n",
    "    ('vectorizer4', CountVectorizer(max_df=1.0, analyzer='char', ngram_range=(2,7))),\n",
    "    ('mnb4', MultinomialNB()),\n",
    "])\n",
    "\n",
    "pipeline4.fit(train_texts_splt, train_labels_splt)\n",
    "pipeline4_predict = pipeline4.predict(val_texts)\n",
    "pipeline4_conf_matrix = confusion_matrix(val_labels, pipeline4_predict)\n",
    "disp4 = ConfusionMatrixDisplay(confusion_matrix=pipeline4_conf_matrix)\n",
    "disp4.plot()\n",
    "plt.show()"
   ]
  },
  {
   "cell_type": "markdown",
   "id": "c595bd93",
   "metadata": {},
   "source": [
    "#### Tf-idf:\n",
    "\n",
    "This is the product of the frequency of the term (TF) and its inverse frequency in documents (IDF).\n",
    "This method is usually used to measure the importance of a term $i$ in a document $j$ relative to the rest of the corpus, from a matrix of occurrences $ words \\times documents$. Thus, for a matrix $\\mathbf{T}$ of $|V|$ terms and $D$ documents:\n",
    "$$\\text{TF}(T, w, d) = \\frac{T_{w,d}}{\\sum_{w'=1}^{|V|} T_{w',d}} $$\n",
    "\n",
    "$$\\text{IDF}(T, w) = \\log\\left(\\frac{D}{|\\{d : T_{w,d} > 0\\}|}\\right)$$\n",
    "\n",
    "$$\\text{TF-IDF}(T, w, d) = \\text{TF}(X, w, d) \\cdot \\text{IDF}(T, w)$$\n",
    "\n",
    "It can be adapted to our case by considering that the context of the second word is the document. However, TF-IDF is generally better suited to low-density matrices, since it will penalize terms that appear in a large part of the documents. "
   ]
  },
  {
   "cell_type": "markdown",
   "id": "8106592c",
   "metadata": {},
   "source": [
    "<div class='alert alert-block alert-info'>\n",
    "            Code:</div>"
   ]
  },
  {
   "cell_type": "code",
   "execution_count": 15,
   "id": "6e9396a8",
   "metadata": {
    "tags": []
   },
   "outputs": [
    {
     "data": {
      "image/png": "[encoded data removed]",
      "text/plain": [
       "<Figure size 432x288 with 2 Axes>"
      ]
     },
     "metadata": {
      "needs_background": "light"
     },
     "output_type": "display_data"
    }
   ],
   "source": [
    "from sklearn.feature_extraction.text import TfidfTransformer\n",
    "\n",
    "# Fit and test a pipeline with tf-idf\n",
    "pipeline_tfidf = Pipeline([('count', CountVectorizer()),\n",
    "                           ('tfid', TfidfTransformer()),\n",
    "                           ('mnb1', MultinomialNB())])\n",
    "pipeline_tfidf.fit(train_texts_splt, train_labels_splt)\n",
    "pipeline_tfidf_predict = pipeline_tfidf.predict(val_texts)\n",
    "pipeline_tfidf_conf_matrix = confusion_matrix(val_labels, pipeline_tfidf_predict)\n",
    "disp_tfidf = ConfusionMatrixDisplay(confusion_matrix=pipeline_tfidf_conf_matrix)\n",
    "disp_tfidf.plot()\n",
    "plt.show()"
   ]
  },
  {
   "cell_type": "markdown",
   "id": "c9d82780",
   "metadata": {},
   "source": [
    "### 2.B With pre-processing tools from NLTK\n",
    "\n",
    "We are now going to pre-process our textual data in order to simplify the model's task. **Note that this still will only be useful if we do not have a lot of training data to begin with !**\n",
    "\n",
    "**Important:** Until now, we obtained representations with ```vectorizer``` applied on the full document. The class divided the string into words itself ! Now, we'll need to do the **tokenization** ourselves in order to apply pre-processing to words. The simplest way to do this is to divide the string following blank spaces, with:\n",
    "```text.split()```. If we need something more elaborate, we can use a tokenizer from NLTK, ```word_tokenize```."
   ]
  },
  {
   "cell_type": "markdown",
   "id": "de763033",
   "metadata": {},
   "source": [
    "### Stemming \n",
    "\n",
    "Allows to go back to the root of a word: you can group different words around the same root, which facilitates generalization. Use:\n",
    "```from nltk import SnowballStemmer```"
   ]
  },
  {
   "cell_type": "code",
   "execution_count": 16,
   "id": "694470b4",
   "metadata": {},
   "outputs": [],
   "source": [
    "from nltk import SnowballStemmer\n",
    "stemmer = SnowballStemmer(\"english\")"
   ]
  },
  {
   "cell_type": "markdown",
   "id": "82c05c64",
   "metadata": {},
   "source": [
    "**Example:**"
   ]
  },
  {
   "cell_type": "code",
   "execution_count": 17,
   "id": "ee578d0b",
   "metadata": {},
   "outputs": [
    {
     "name": "stdout",
     "output_type": "stream",
     "text": [
      "word : singers ; stemmed : singer\n",
      "word : cat ; stemmed : cat\n",
      "word : generalization ; stemmed : general\n",
      "word : philosophy ; stemmed : philosophi\n",
      "word : psychology ; stemmed : psycholog\n",
      "word : philosopher ; stemmed : philosoph\n"
     ]
    }
   ],
   "source": [
    "words = ['singers', 'cat', 'generalization', 'philosophy', 'psychology', 'philosopher']\n",
    "for word in words:\n",
    "    print('word : %s ; stemmed : %s' %(word, stemmer.stem(word)))"
   ]
  },
  {
   "cell_type": "markdown",
   "id": "cbe9681f",
   "metadata": {},
   "source": [
    "**Data transformation:**"
   ]
  },
  {
   "cell_type": "markdown",
   "id": "c394722f",
   "metadata": {},
   "source": [
    "<div class='alert alert-block alert-info'>\n",
    "            Code:</div>"
   ]
  },
  {
   "cell_type": "code",
   "execution_count": 18,
   "id": "b0fea4d7",
   "metadata": {},
   "outputs": [
    {
     "data": {
      "image/png": "[encoded data removed]",
      "text/plain": [
       "<Figure size 432x288 with 2 Axes>"
      ]
     },
     "metadata": {
      "needs_background": "light"
     },
     "output_type": "display_data"
    }
   ],
   "source": [
    "def stem(X):\n",
    "    #\n",
    "    # To complete \n",
    "    X_stem=[]\n",
    "    for text in X:\n",
    "        X2 = []\n",
    "        for word in text.split():\n",
    "            X2.append(stemmer.stem(word))\n",
    "        X_stem.append(' '.join(X2))\n",
    "    #\n",
    "    return X_stem\n",
    "\n",
    "# Transform training and validation data and test it with a basic pipeline\n",
    "X_train_stem = stem(train_texts_splt)\n",
    "X_val_stem = stem(val_texts)\n",
    "\n",
    "pipeline_base.fit(X_train_stem, train_labels_splt)\n",
    "pipeline_stem_predict = pipeline_base.predict(X_val_stem)\n",
    "pipeline_stem_conf_matrix = confusion_matrix(val_labels, pipeline_stem_predict)\n",
    "disp_stem = ConfusionMatrixDisplay(confusion_matrix=pipeline_stem_conf_matrix)\n",
    "disp_stem.plot()\n",
    "plt.show()"
   ]
  },
  {
   "cell_type": "markdown",
   "id": "3c5cd980",
   "metadata": {},
   "source": [
    "### Part of speech tags\n",
    "\n",
    "To generalize, we can also use the Part of Speech (POS) of the words, which will allow us to filter out information that is potentially not useful to the model. We will retrieve the POS of the words using the functions:\n",
    "```from nltk import pos_tag, word_tokenize```"
   ]
  },
  {
   "cell_type": "code",
   "execution_count": 19,
   "id": "1311438a",
   "metadata": {},
   "outputs": [],
   "source": [
    "import nltk\n",
    "from nltk import pos_tag, word_tokenize"
   ]
  },
  {
   "cell_type": "markdown",
   "id": "72f59576",
   "metadata": {},
   "source": [
    "**Example:**"
   ]
  },
  {
   "cell_type": "code",
   "execution_count": 20,
   "id": "96cbf3c6",
   "metadata": {},
   "outputs": [
    {
     "name": "stderr",
     "output_type": "stream",
     "text": [
      "[nltk_data] Downloading package punkt to\n",
      "[nltk_data]     /Users/pierreloviton/nltk_data...\n",
      "[nltk_data]   Package punkt is already up-to-date!\n",
      "[nltk_data] Downloading package averaged_perceptron_tagger to\n",
      "[nltk_data]     /Users/pierreloviton/nltk_data...\n",
      "[nltk_data]   Package averaged_perceptron_tagger is already up-to-\n",
      "[nltk_data]       date!\n"
     ]
    },
    {
     "data": {
      "text/plain": [
       "[('I', 'PRP'), ('am', 'VBP'), ('Sam', 'NNP')]"
      ]
     },
     "execution_count": 20,
     "metadata": {},
     "output_type": "execute_result"
    }
   ],
   "source": [
    "import nltk\n",
    "nltk.download('punkt')\n",
    "nltk.download('averaged_perceptron_tagger')\n",
    "\n",
    "pos_tag(word_tokenize(('I am Sam')))"
   ]
  },
  {
   "cell_type": "markdown",
   "id": "8cc69460",
   "metadata": {},
   "source": [
    "**Data transformation:** only keep nouns, verbs, adverbs, and adjectives (```['NN', 'VB', 'ADJ', 'RB']```) for our model."
   ]
  },
  {
   "cell_type": "markdown",
   "id": "a303c5fb",
   "metadata": {},
   "source": [
    "<div class='alert alert-block alert-info'>\n",
    "            Code:</div>"
   ]
  },
  {
   "cell_type": "code",
   "execution_count": 21,
   "id": "94855c7b-333b-46a6-9ee4-a59fc2e5a1ae",
   "metadata": {},
   "outputs": [],
   "source": [
    "def pos_tag_filter(X, good_tags=['NN', 'VB', 'ADJ', 'RB']):\n",
    "    #\n",
    "    Xbis = []\n",
    "    X_posbis = []\n",
    "    X_pos = []\n",
    "    for text in X:\n",
    "        Xbis = pos_tag(word_tokenize(text))\n",
    "        for i in range(len(Xbis)):\n",
    "            if Xbis[i][1] in good_tags:\n",
    "                X_posbis.append(Xbis[i][0]) \n",
    "        X_pos.append(' '.join(X_posbis))\n",
    "    #\n",
    "    return X_pos"
   ]
  },
  {
   "cell_type": "code",
   "execution_count": 22,
   "id": "2f62b8f8-42e2-4b97-8c63-906d9b65d475",
   "metadata": {},
   "outputs": [],
   "source": [
    "def pos_tag_filter(X, good_tags=['NN', 'VB', 'ADJ', 'RB']):\n",
    "    \n",
    "    X_pos=[]\n",
    "    for doc in X:\n",
    "        doc_tokens=pos_tag(word_tokenize((doc)))\n",
    "        doc_tokens2=[]\n",
    "        for word in doc_tokens:\n",
    "\n",
    "            w=word[0]\n",
    "            t=word[1]\n",
    "            \n",
    "            if t in good_tags:\n",
    "\n",
    "                doc_tokens2.append(w)\n",
    "        X_pos.append(\" \".join(doc_tokens2))\n",
    "\n",
    "    return X_pos"
   ]
  },
  {
   "cell_type": "code",
   "execution_count": 23,
   "id": "f63db6cc-e18e-4dac-813d-198af95950f4",
   "metadata": {},
   "outputs": [
    {
     "name": "stdout",
     "output_type": "stream",
     "text": [
      "              precision    recall  f1-score   support\n",
      "\n",
      "           0       0.49      0.95      0.64        20\n",
      "           1       0.91      0.33      0.49        30\n",
      "\n",
      "    accuracy                           0.58        50\n",
      "   macro avg       0.70      0.64      0.57        50\n",
      "weighted avg       0.74      0.58      0.55        50\n",
      "\n"
     ]
    },
    {
     "data": {
      "image/png": "[encoded data removed]",
      "text/plain": [
       "<Figure size 432x288 with 2 Axes>"
      ]
     },
     "metadata": {
      "needs_background": "light"
     },
     "output_type": "display_data"
    }
   ],
   "source": [
    "pipeline_base = Pipeline([\n",
    "    ('vect', CountVectorizer(max_features=30000,max_df=1.0,\n",
    "                             analyzer='word',ngram_range=(1, 3), stop_words=None)),\n",
    "    ('clf', MultinomialNB())])\n",
    "\n",
    "train_texts_splt2=stem(pos_tag_filter(train_texts_splt))\n",
    "val_texts2=stem(pos_tag_filter(val_texts))\n",
    "\n",
    "pipeline_base.fit(train_texts_splt2, train_labels_splt)\n",
    "pred=pipeline_base.predict(val_texts2)\n",
    "cm=confusion_matrix(y_true=val_labels,y_pred=pred)\n",
    "ConfusionMatrixDisplay(cm).plot()\n",
    "report=classification_report(y_true=val_labels,y_pred=pred)\n",
    "print(report)"
   ]
  },
  {
   "cell_type": "code",
   "execution_count": 24,
   "id": "c6aea80e",
   "metadata": {},
   "outputs": [
    {
     "data": {
      "image/png": "[encoded data removed]",
      "text/plain": [
       "<Figure size 432x288 with 2 Axes>"
      ]
     },
     "metadata": {
      "needs_background": "light"
     },
     "output_type": "display_data"
    }
   ],
   "source": [
    "# Fit and test the pipeline\n",
    "pipeline1 = Pipeline([\n",
    "    ('vectorizer1', CountVectorizer(max_df=1.0, analyzer='word')),\n",
    "    ('mnb1', MultinomialNB()),])\n",
    "\n",
    "# Transform training and validation data and test it with a basic pipeline\n",
    "X_train_pos = pos_tag_filter(train_texts_splt)\n",
    "X_val_pos = pos_tag_filter(val_texts)\n",
    "\n",
    "pipeline2.fit(X_train_pos, train_labels_splt)\n",
    "pipeline_pos_predict = pipeline2.predict(X_val_pos)\n",
    "pipeline_pos_conf_matrix = confusion_matrix(val_labels, pipeline_pos_predict)\n",
    "disp_pos = ConfusionMatrixDisplay(confusion_matrix=pipeline_pos_conf_matrix)\n",
    "disp_pos.plot()\n",
    "plt.show()"
   ]
  },
  {
   "cell_type": "code",
   "execution_count": 25,
   "id": "ceebfcc0-3daa-4631-8ad7-c46498eb09e7",
   "metadata": {},
   "outputs": [
    {
     "name": "stdout",
     "output_type": "stream",
     "text": [
      "              precision    recall  f1-score   support\n",
      "\n",
      "           0       0.53      0.90      0.67        20\n",
      "           1       0.88      0.47      0.61        30\n",
      "\n",
      "    accuracy                           0.64        50\n",
      "   macro avg       0.70      0.68      0.64        50\n",
      "weighted avg       0.74      0.64      0.63        50\n",
      "\n"
     ]
    }
   ],
   "source": [
    "print(classification_report(val_labels,pipeline_pos_predict))"
   ]
  },
  {
   "cell_type": "markdown",
   "id": "41dbc1f1",
   "metadata": {},
   "source": [
    "## 3 - Dense Representations \n",
    "\n",
    "### Word Embeddings : Distributed representations via the distributional hypothesis \n",
    "\n",
    "**Goal**: We will try to obtain dense representations (as vectors of real numbers) of words (and possibly sentences). These representations are intended to be distributed: they are non-local representations. We represent an object as a combination of *features*, as opposed to the attribution of a dedicated symbol: see the founding work of Geoffrey Hinton, among others, on the subject: [Distributed Representations](https://web.stanford.edu/~jlmcc/papers/PDP/Chapter3.pdf).\n",
    "\n",
    "The term *distributed* representations is very general, but is what we are looking for. The challenge is therefore to be able to build, automatically, such representations.\n",
    "\n",
    "**Underlying idea**: It is based on the distributional hypothesis: contextual information is sufficient to obtain a viable representation of linguistic objects.\n",
    " - For a large class of cases [...] the meaning of a word is its use in the language.\" Wittgenstein (Philosophical Investigations, 43 - 1953)\n",
    " - You shall know a word by the company it keeps, Firth.\n",
    "\n",
    "Thus, a word can be characterized by the words that accompany it, via co-occurrence counts. Two words with a similar meaning will have a similar contextual distribution and are therefore more likely to appear in similar contexts. This hypothesis can be used as a justification for the application of statistics to semantics (information extraction, semantic analysis). It also allows some form of generalization: we can assume that the information we have about a word will be generalized to words with a similar distribution. \n",
    "\n",
    "**Motivation**: The goal is to obtain distributed representations in order to be able to effectively**:\n",
    "- Directly perform a semantic surface analysis.\n",
    "- Use it as a source of information for other language-related models and applications, especially for sentiment analysis. \n",
    "\n",
    "\n",
    "**Terminology**: Be careful not to confuse the idea of *distributed* and *distributional* representation. The latter generally indicates (for words) that the representation has been obtained strictly from co-occurrence counts, whereas additional information (document labels, part of speech tags, ...) can be used to build distributed representations. \n",
    "The models that allow to build these dense representations, in the form of vectors, are often called *vector spaces models*. These representations are also regularly called *word embeddings*, because the words are embedded in a vector space. In French, we often find the term *word embedding* or *lexical embedding*."
   ]
  },
  {
   "cell_type": "markdown",
   "id": "29c47805",
   "metadata": {
    "tags": []
   },
   "source": [
    "### Getting representations: counts of occurrences and co-occurrences\n",
    "\n",
    "Depending on the type of corpus available, different types of distributional information can be obtained. If we have access to a collection of documents, we can thus choose to count the number of occurrences of each word in each document, to obtain a $words \\times documents$ matrix: it is on this principle that **Tf-Idf** is built. We will now look at a more general case: we have a large amount of data in text form, and we want to obtain representations of words in the form of vectors of reduced size, without the need to divide them into documents or categories. \n",
    "\n",
    "Suppose we have a corpus containing $T$ different words. We will construct a $\\mathbf{M}$ matrix of size $T \\times T$ which will contain the number of co-occurrences between words. There will be different factors to consider when constructing this matrix: \n",
    "\n",
    "- How do you define the 'context' of a word - context which will tell you what terms co-occur with that word?\n",
    "\n",
    "We can choose to use different scales: the document, the sentence, the nominal group, or simply a window of $k$ words, depending on the information we want to capture.\n",
    "\n",
    "\n",
    "- How do we quantify the importance of the counts? \n",
    "\n",
    "$\\rightarrow$ For example, we can give a decreasing weight to a co-occurrence according to the distance between the two words concerned ($\\frac{1}{d+1}$ for a separation by $d$ words).\n",
    "\n",
    "\n",
    "- Should we keep all the words that appear in the corpus? \n",
    "\n",
    "$\\rightarrow$ Usually not. We will see that for large corpora, the number $T$ of different words is huge. Second, even if the number of words is reasonable, we will have very little distributional information on the rarest words, and the representation obtained will be of poor quality. We will have to ask ourselves how to filter these words, and how to treat the words we choose not to represent.  "
   ]
  },
  {
   "cell_type": "markdown",
   "id": "9af49e7c",
   "metadata": {},
   "source": [
    "#### Example:\n",
    "\n",
    "Let's look at the following text:\n",
    "\n",
    "*I walked down down the boulevard. I walked down the avenue. I ran down the boulevard. I walk down the city. I walk down the the avenue.*\n",
    "\n",
    "We choose to define the context of a word as the sentence to which it belongs, and to not use any weighting.\n",
    "We obtain the following matrix: \n",
    "\n",
    "|     *         | I | the | down | walked | boulevard | avenue | walk | ran | city |\n",
    "|---------------|---|-----|------|--------|-----------|--------|------|-----|------|\n",
    "| I             | 0 |      6 |    6 |   2 |         2 |      2 |   2 |    1 |    1 |\n",
    "| the           | 6 |      2 |    7 |   2 |         2 |      3 |   3 |    1 |    1 |\n",
    "| down          | 6 |      7 |    2 |   3 |         3 |      2 |   2 |    1 |    1 |\n",
    "| walked        | 2 |      2 |    3 |   0 |         1 |      1 |   0 |    0 |    0 |\n",
    "| boulevard     | 2 |      2 |    3 |   1 |         0 |      0 |   0 |    1 |    0 |\n",
    "| avenue        | 2 |      3 |    2 |   1 |         0 |      0 |   1 |    0 |    0 |\n",
    "| ran           | 2 |      3 |    2 |   0 |         0 |      1 |   0 |    0 |    1 |\n",
    "| walk          | 1 |      1 |    1 |   0 |         1 |      0 |   0 |    0 |    0 |\n",
    "| city          | 1 |      1 |    1 |   0 |         0 |      0 |   1 |    0 |    1 |"
   ]
  },
  {
   "cell_type": "markdown",
   "id": "651600a4",
   "metadata": {},
   "source": [
    "### 3.A In practice: get a Vocabulary.\n",
    "\n",
    "To begin, we will implement separately a function returning the vocabulary. Here we will have to be able to control its size, by indicating a maximum number of words. We add, at the end, an \"unknown\" word that will replace all the words that do not appear in our \"limited\" vocabulary. \n",
    "\n",
    "**Remarks:**\n",
    "- Use tokenization to obtain words from a document !\n",
    "- Add a special token ```<UNK>``` to deal with out-of-vocabulary words: even if you don't put a limit, you might encounter new words when working with new data. \n",
    "- You need to count words and sort them by frequency in order to only keep the most frequent ones. It is not necessary to count 'unknown' words."
   ]
  },
  {
   "cell_type": "markdown",
   "id": "1f103cc0",
   "metadata": {},
   "source": [
    "<div class='alert alert-block alert-info'>\n",
    "            Code:</div>"
   ]
  },
  {
   "cell_type": "code",
   "execution_count": 26,
   "id": "f757ff1a-5ffb-4720-8be5-5bf2be83f162",
   "metadata": {},
   "outputs": [],
   "source": [
    "corpus = ['I walked down down the boulevard',\n",
    "          'I walked down the avenue',\n",
    "          'I ran down the boulevard',\n",
    "          'I walk down the city',\n",
    "          'I walk down the the avenue']\n"
   ]
  },
  {
   "cell_type": "code",
   "execution_count": 27,
   "id": "b0b5b5d7",
   "metadata": {},
   "outputs": [],
   "source": [
    "def vocabulary(corpus, voc_threshold=0):\n",
    "    \"\"\"    \n",
    "    Function using word counts to build a vocabulary - can be improved with a second parameter for \n",
    "    setting a frequency threshold\n",
    "    Params:\n",
    "        corpus (list of list of strings): corpus of sentences\n",
    "        voc_threshold (int): maximum size of the vocabulary (0 means no limit !)\n",
    "    Returns:\n",
    "        vocabulary (dictionary): keys: list of distinct words across the corpus\n",
    "                                 values: indexes corresponding to each word sorted by frequency        \n",
    "    \"\"\"\n",
    "    word_counts = {}\n",
    "    #\n",
    "    for i in corpus:\n",
    "        sentence = i.split()\n",
    "        for word in sentence:\n",
    "            word=word.lower()\n",
    "            if word in word_counts:\n",
    "                word_counts[word]+=1\n",
    "            else:\n",
    "                word_counts[word]=1\n",
    "                \n",
    "    filtered_word_counts = dict(sorted(word_counts.items(), key=lambda item: item[1], reverse=True))\n",
    "    if voc_threshold !=0:\n",
    "        filtered_word_counts = dict(list(filtered_word_counts.items())[:voc_threshold])\n",
    "\n",
    "    vocabulary = filtered_word_counts.copy()\n",
    "    keys_list = list(filtered_word_counts)\n",
    "    for i in range(len(vocabulary)):\n",
    "        key = keys_list[i]\n",
    "        vocabulary[key] = i\n",
    "    \n",
    "    if 'UNK' in vocabulary:\n",
    "        return vocabulary, filtered_word_counts\n",
    "    else:\n",
    "        vocabulary['UNK'] = len(vocabulary)\n",
    "        filtered_word_counts['UNK'] = 0\n",
    "        return vocabulary, filtered_word_counts\n",
    "\n",
    "    #   \n"
   ]
  },
  {
   "cell_type": "code",
   "execution_count": 28,
   "id": "f6f97b3b",
   "metadata": {},
   "outputs": [
    {
     "name": "stdout",
     "output_type": "stream",
     "text": [
      "{'down': 0, 'the': 1, 'i': 2, 'UNK': 3}\n",
      "{'down': 6, 'the': 6, 'i': 5, 'UNK': 0}\n",
      "{'down': 0, 'the': 1, 'i': 2, 'walked': 3, 'boulevard': 4, 'avenue': 5, 'walk': 6, 'ran': 7, 'city': 8, 'UNK': 9}\n",
      "{'down': 6, 'the': 6, 'i': 5, 'walked': 2, 'boulevard': 2, 'avenue': 2, 'walk': 2, 'ran': 1, 'city': 1, 'UNK': 0}\n"
     ]
    }
   ],
   "source": [
    "# Example for testing:\n",
    "\n",
    "corpus = ['I walked down down the boulevard',\n",
    "          'I walked down the avenue',\n",
    "          'I ran down the boulevard',\n",
    "          'I walk down the city',\n",
    "          'I walk down the the avenue']\n",
    "\n",
    "voc, counts = vocabulary(corpus, voc_threshold = 3)\n",
    "print(voc)\n",
    "print(counts)\n",
    "\n",
    "# We expect something like this:\n",
    "#  {'down': 0, 'the': 1, 'i': 2, 'UNK': 3}\n",
    "#  {'down': 6, 'the': 6, 'i': 5, 'UNK': 0}\n",
    "\n",
    "voc, counts = vocabulary(corpus)\n",
    "print(voc)\n",
    "print(counts)\n",
    "\n",
    "# We expect something like this:\n",
    "#  {'down': 0, 'the': 1, 'i': 2, 'walked': 3, 'boulevard': 4, 'avenue': 5, 'walk': 6, 'ran': 7, 'city': 8, 'UNK': 9}\n",
    "#  {'down': 6, 'the': 6, 'i': 5, 'walked': 2, 'boulevard': 2, 'avenue': 2, 'walk': 2, 'ran': 1, 'city': 1, 'UNK': 0}"
   ]
  },
  {
   "cell_type": "markdown",
   "id": "ce268905",
   "metadata": {},
   "source": [
    "### 3.B Obtaining co-occurences:\n",
    "\n",
    "The function takes as input the corpus (a list of strings, corresponding to documents/sentences) and a vocabulary, as well as the size of the context window. We can also implement the simplest solution: the context of a word being the full document to which it belongs. \n",
    "Finally, we can implement the possibility of making linearly decrease the importance of the context of a word when getting further from the input word.\n",
    "\n",
    "**Remark:**\n",
    "- The matrix we are building is symmetric: we can only build half of it !"
   ]
  },
  {
   "cell_type": "markdown",
   "id": "f7258ed6",
   "metadata": {},
   "source": [
    "<div class='alert alert-block alert-info'>\n",
    "            Code:</div>"
   ]
  },
  {
   "cell_type": "code",
   "execution_count": 29,
   "id": "004ed3db-e1e6-40ef-8589-060678a48464",
   "metadata": {},
   "outputs": [],
   "source": [
    "def co_occurence_matrix(corpus, vocabulary, window=0, distance_weighting=False):\n",
    "    \"\"\"\n",
    "    Params:\n",
    "        corpus (list of list of strings): corpus of sentences\n",
    "        vocabulary (dictionary): words to use in the matrix\n",
    "        window (int): size of the context window; when 0, the context is the whole sentence\n",
    "        distance_weighting (bool): indicates if we use a weight depending on the distance between words for co-oc counts\n",
    "    Returns:\n",
    "        matrix (array of size (len(vocabulary), len(vocabulary))): the co-oc matrix, using the same ordering as the vocabulary given in input    \n",
    "    \"\"\" \n",
    "    l = len(vocabulary)\n",
    "    M = np.zeros((l,l))\n",
    "    N_doc=len(corpus)\n",
    "    count=1\n",
    "    print('Number of doc :',N_doc)\n",
    "    for sent in corpus:\n",
    "        if count%5000==0:\n",
    "            print('Step : {}/{}'.format(count,N_doc))\n",
    "        count+=1\n",
    "\n",
    "        # Get the sentence\n",
    "        sent = word_tokenize(sent)\n",
    "        # Obtain the indexes of the words in the sentence from the vocabulary \n",
    "        sent_idx = [] \n",
    "        for word in sent:\n",
    "            sent_idx.append(vocabulary.get(word,-1))\n",
    "            \n",
    "        # Go through the indexes and add 1 / dist(i,j) to M[i,j] if words of index i and j appear in the same window\n",
    "        for i, idx_i in enumerate(sent_idx):\n",
    "\n",
    "            # If we consider a limited context:\n",
    "            if window > 0:\n",
    "                \n",
    "                # Create a list containing the indexes that are on the left of the current index 'idx_i'\n",
    "                idx_min=max(i-window,0)\n",
    "                window2=sent[idx_min:i] \n",
    "                l_ctx_idx=[vocabulary.get(w,-1) for w in window2] # Return idx -1 for UNK word\n",
    "\n",
    "            # If the context is the entire document:\n",
    "            else:\n",
    "                \n",
    "                # The list containing the left context is easier to create\n",
    "                window2=sent[:i] \n",
    "                l_ctx_idx=[vocabulary.get(w,-1) for w in window2] # Return idx -1 for UNK word\n",
    "                \n",
    "\n",
    "            # Go through the list and update M[i,j]:    \n",
    "            for j, idx_j in enumerate(l_ctx_idx):\n",
    "                if distance_weighting:\n",
    "                    weight = 1/(j-i)\n",
    "                else:\n",
    "                    weight = 1.0\n",
    "                \n",
    "                M[idx_i, idx_j] += weight \n",
    "                M[idx_j, idx_i] += weight \n",
    "    return M  "
   ]
  },
  {
   "cell_type": "code",
   "execution_count": 30,
   "id": "39b793cd-6ea9-429c-b52d-c1ca9e2ba70d",
   "metadata": {},
   "outputs": [
    {
     "name": "stdout",
     "output_type": "stream",
     "text": [
      "Number of doc : 5\n",
      "[[2. 7. 0. 3. 3. 2. 2. 1. 1. 6.]\n",
      " [7. 2. 0. 2. 2. 3. 3. 1. 1. 6.]\n",
      " [0. 0. 0. 0. 0. 0. 0. 0. 0. 0.]\n",
      " [3. 2. 0. 0. 1. 1. 0. 0. 0. 2.]\n",
      " [3. 2. 0. 1. 0. 0. 0. 1. 0. 2.]\n",
      " [2. 3. 0. 1. 0. 0. 1. 0. 0. 2.]\n",
      " [2. 3. 0. 0. 0. 1. 0. 0. 1. 2.]\n",
      " [1. 1. 0. 0. 1. 0. 0. 0. 0. 1.]\n",
      " [1. 1. 0. 0. 0. 0. 1. 0. 0. 1.]\n",
      " [6. 6. 0. 2. 2. 2. 2. 1. 1. 0.]]\n"
     ]
    }
   ],
   "source": [
    "print(co_occurence_matrix(corpus, voc, 0, False))\n",
    "# Careful: results will differ from the above example because the vocabulary and the order of words are not \n",
    "# necessarily the same ! "
   ]
  },
  {
   "cell_type": "code",
   "execution_count": 31,
   "id": "734ee156",
   "metadata": {},
   "outputs": [
    {
     "name": "stdout",
     "output_type": "stream",
     "text": [
      "Number of doc : 5\n",
      "[[2. 7. 0. 3. 3. 2. 2. 1. 1. 6.]\n",
      " [7. 2. 0. 2. 2. 3. 3. 1. 1. 6.]\n",
      " [0. 0. 0. 0. 0. 0. 0. 0. 0. 0.]\n",
      " [3. 2. 0. 0. 1. 1. 0. 0. 0. 2.]\n",
      " [3. 2. 0. 1. 0. 0. 0. 1. 0. 2.]\n",
      " [2. 3. 0. 1. 0. 0. 1. 0. 0. 2.]\n",
      " [2. 3. 0. 0. 0. 1. 0. 0. 1. 2.]\n",
      " [1. 1. 0. 0. 1. 0. 0. 0. 0. 1.]\n",
      " [1. 1. 0. 0. 0. 0. 1. 0. 0. 1.]\n",
      " [6. 6. 0. 2. 2. 2. 2. 1. 1. 0.]]\n"
     ]
    }
   ],
   "source": [
    "print(co_occurence_matrix(corpus, voc, 0, False))\n",
    "# Careful: results will differ from the above example because the vocabulary and the order of words are not \n",
    "# necessarily the same ! "
   ]
  },
  {
   "cell_type": "markdown",
   "id": "230b36cf",
   "metadata": {},
   "source": [
    "### 3.C Application to a real data set\n",
    "\n",
    "We're going to work with the **imdb** data.\n",
    "\n",
    "#### Quick study of the data\n",
    "\n",
    "We would like to get an idea of what's in these film reviews before we proceed. So we'll get the vocabulary (in full) and represent the frequencies of the words, in order (be careful, you'll have to use a logarithmic scale): we should find back Zipf's law. This will give us an idea of the size of the vocabulary we will be able to choose: it's a matter of making a compromise between the necessary resources (size of the objects in memory) and the amount of information we can get from them (rare words can bring a lot of information, but it's difficult to learn good representations of them, because they are rare!).  "
   ]
  },
  {
   "cell_type": "code",
   "execution_count": 32,
   "id": "57f62983",
   "metadata": {},
   "outputs": [
    {
     "data": {
      "image/png": "[encoded data removed]",
      "text/plain": [
       "<Figure size 1440x360 with 1 Axes>"
      ]
     },
     "metadata": {
      "needs_background": "light"
     },
     "output_type": "display_data"
    },
    {
     "name": "stdout",
     "output_type": "stream",
     "text": [
      "Vocabulary size: 251638\n",
      "Part of the corpus by taking the \"x\" most frequent words:\n",
      "5000 : 0.83\n",
      "10000 : 0.88\n",
      "15000 : 0.90\n",
      "20000 : 0.91\n",
      "25000 : 0.93\n",
      "30000 : 0.93\n",
      "35000 : 0.94\n",
      "40000 : 0.94\n",
      "45000 : 0.95\n",
      "50000 : 0.95\n",
      "55000 : 0.96\n",
      "60000 : 0.96\n",
      "65000 : 0.96\n",
      "70000 : 0.96\n",
      "75000 : 0.97\n",
      "80000 : 0.97\n",
      "85000 : 0.97\n",
      "90000 : 0.97\n",
      "95000 : 0.97\n",
      "100000 : 0.97\n",
      "105000 : 0.97\n",
      "110000 : 0.98\n",
      "115000 : 0.98\n",
      "120000 : 0.98\n",
      "125000 : 0.98\n",
      "130000 : 0.98\n",
      "135000 : 0.98\n",
      "140000 : 0.98\n",
      "145000 : 0.98\n",
      "150000 : 0.98\n",
      "155000 : 0.98\n",
      "160000 : 0.98\n",
      "165000 : 0.99\n",
      "170000 : 0.99\n",
      "175000 : 0.99\n",
      "180000 : 0.99\n",
      "185000 : 0.99\n",
      "190000 : 0.99\n",
      "195000 : 0.99\n",
      "200000 : 0.99\n",
      "205000 : 0.99\n",
      "210000 : 0.99\n",
      "215000 : 0.99\n",
      "220000 : 0.99\n",
      "225000 : 1.00\n",
      "230000 : 1.00\n",
      "235000 : 1.00\n",
      "240000 : 1.00\n",
      "245000 : 1.00\n",
      "250000 : 1.00\n"
     ]
    }
   ],
   "source": [
    "vocab, word_counts = vocabulary(train_texts)\n",
    "rank_counts = {w:[vocab[w], word_counts[w]] for w in vocab}\n",
    "rank_counts_array = np.array(list(rank_counts.values()))\n",
    "\n",
    "plt.figure(figsize=(20,5))\n",
    "plt.title('Word counts versus rank')\n",
    "plt.scatter(rank_counts_array[:,0], rank_counts_array[:,1])\n",
    "plt.yscale('log')\n",
    "plt.show()\n",
    "\n",
    "print('Vocabulary size: %i' % len(vocab))\n",
    "print('Part of the corpus by taking the \"x\" most frequent words:')\n",
    "for i in range(5000, len(vocab), 5000):\n",
    "    print('%i : %.2f' % (i, np.sum(rank_counts_array[:i, 1]) / np.sum(rank_counts_array[:,1]) ))"
   ]
  },
  {
   "cell_type": "markdown",
   "id": "9f57b9ba",
   "metadata": {},
   "source": [
    "**Result of the analysis**: we can be satisfied with a vocabulary of 10,000 or even 5,000 words - this is important, because it will determine the size of the objects we will manipulate. "
   ]
  },
  {
   "cell_type": "code",
   "execution_count": 33,
   "id": "375a3ed5",
   "metadata": {},
   "outputs": [],
   "source": [
    "vocab_5k, word_counts_5k = vocabulary(train_texts, 5000)"
   ]
  },
  {
   "cell_type": "code",
   "execution_count": 34,
   "id": "500d843c",
   "metadata": {},
   "outputs": [
    {
     "name": "stdout",
     "output_type": "stream",
     "text": [
      "626\n"
     ]
    }
   ],
   "source": [
    "print(vocab_5k['cinema'])"
   ]
  },
  {
   "cell_type": "markdown",
   "id": "7c675120",
   "metadata": {},
   "source": [
    "#### Obtaining the matrices:\n",
    "We can now get the co-occurence matrices with parameters of our choosing !"
   ]
  },
  {
   "cell_type": "code",
   "execution_count": 35,
   "id": "4b9026e3",
   "metadata": {},
   "outputs": [
    {
     "name": "stdout",
     "output_type": "stream",
     "text": [
      "Number of doc : 25000\n",
      "Step : 5000/25000\n",
      "Step : 10000/25000\n",
      "Step : 15000/25000\n",
      "Step : 20000/25000\n",
      "Step : 25000/25000\n",
      "Number of doc : 25000\n",
      "Step : 5000/25000\n",
      "Step : 10000/25000\n",
      "Step : 15000/25000\n",
      "Step : 20000/25000\n",
      "Step : 25000/25000\n",
      "(5001, 5001)\n",
      "(5001, 5001)\n"
     ]
    }
   ],
   "source": [
    "M5dist = co_occurence_matrix(train_texts, vocab_5k, window=5, distance_weighting=True)\n",
    "M20 = co_occurence_matrix(train_texts, vocab_5k, window=20, distance_weighting=False)\n",
    "print(M5dist.shape)\n",
    "print(M20.shape)"
   ]
  },
  {
   "cell_type": "code",
   "execution_count": 36,
   "id": "4a227fa0-3165-4ec7-a837-a8eadf698baa",
   "metadata": {},
   "outputs": [
    {
     "name": "stdout",
     "output_type": "stream",
     "text": [
      "With a large context, without taking in account distance between words:\n",
      "Plus proches voisins de good selon la distance 'euclidean': \n",
      "[['very', 'more', 'some', 'would', 'up', 'what', 'there', 'which', 'when']]\n"
     ]
    },
    {
     "name": "stderr",
     "output_type": "stream",
     "text": [
      "/var/folders/f0/q7nn178n5cldx0lvl6yvbbn40000gn/T/ipykernel_69332/3032236688.py:5: RuntimeWarning: invalid value encountered in true_divide\n",
      "  return u / np.sqrt(u.dot(u))\n"
     ]
    },
    {
     "name": "stdout",
     "output_type": "stream",
     "text": [
      "Plus proches voisins de good selon la distance 'cosine': \n",
      "[['great', 'very', 'decent', 'pretty', 'nice', 'really', 'quite', 'not', 'cool']]\n",
      "\n",
      "With a small context, and reducing the impact of counts when words are distant:\n",
      "Plus proches voisins de good selon la distance 'euclidean': \n",
      "[['great', 'very', 'bad', 'story', 'what', 'or', 'me', 'he', 'only']]\n",
      "Plus proches voisins de good selon la distance 'cosine': \n",
      "[['great', 'very', 'wonderful', 'strong', 'fine', 'little', 'decent', 'bad', 'fun']]\n"
     ]
    },
    {
     "name": "stderr",
     "output_type": "stream",
     "text": [
      "/var/folders/f0/q7nn178n5cldx0lvl6yvbbn40000gn/T/ipykernel_69332/3032236688.py:5: RuntimeWarning: invalid value encountered in true_divide\n",
      "  return u / np.sqrt(u.dot(u))\n"
     ]
    }
   ],
   "source": [
    "def euclidean(u, v):\n",
    "    return np.linalg.norm(u-v)\n",
    "\n",
    "def length_norm(u):\n",
    "    return u / np.sqrt(u.dot(u))\n",
    "\n",
    "def cosine(u, v):\n",
    "    return 1.0 - length_norm(u).dot(length_norm(v))\n",
    "\n",
    "from sklearn.neighbors import NearestNeighbors\n",
    "\n",
    "def print_neighbors(distance, voc, co_oc, mot, k=10):\n",
    "    inv_voc = {id: w for w, id in voc.items()}\n",
    "    neigh = NearestNeighbors(n_neighbors=k, algorithm='brute', metric=distance)\n",
    "    neigh.fit(co_oc) \n",
    "    dist, ind = neigh.kneighbors([co_oc[voc[mot]]])\n",
    "    print(\"Plus proches voisins de %s selon la distance '%s': \" % (mot, distance.__name__))\n",
    "    print([[inv_voc[i] for i in s[1:]] for s in ind])\n",
    "    \n",
    "print(\"With a large context, without taking in account distance between words:\")    \n",
    "print_neighbors(euclidean, vocab_5k, M20, 'good')\n",
    "print_neighbors(cosine, vocab_5k, M20, 'good')\n",
    "print(\"\")\n",
    "print(\"With a small context, and reducing the impact of counts when words are distant:\")    \n",
    "print_neighbors(euclidean, vocab_5k, M5dist, 'good')\n",
    "print_neighbors(cosine, vocab_5k, M5dist, 'good') "
   ]
  },
  {
   "cell_type": "code",
   "execution_count": 37,
   "id": "88d73c41",
   "metadata": {},
   "outputs": [
    {
     "name": "stdout",
     "output_type": "stream",
     "text": [
      "With a large context, without taking in account distance between words:\n",
      "Plus proches voisins de good selon la distance 'euclidean': \n",
      "[['very', 'more', 'some', 'would', 'up', 'what', 'there', 'which', 'when']]\n"
     ]
    },
    {
     "name": "stderr",
     "output_type": "stream",
     "text": [
      "/var/folders/f0/q7nn178n5cldx0lvl6yvbbn40000gn/T/ipykernel_69332/3032236688.py:5: RuntimeWarning: invalid value encountered in true_divide\n",
      "  return u / np.sqrt(u.dot(u))\n"
     ]
    },
    {
     "name": "stdout",
     "output_type": "stream",
     "text": [
      "Plus proches voisins de good selon la distance 'cosine': \n",
      "[['great', 'very', 'decent', 'pretty', 'nice', 'really', 'quite', 'not', 'cool']]\n",
      "\n",
      "With a small context, and reducing the impact of counts when words are distant:\n",
      "Plus proches voisins de good selon la distance 'euclidean': \n",
      "[['great', 'very', 'bad', 'story', 'what', 'or', 'me', 'he', 'only']]\n",
      "Plus proches voisins de good selon la distance 'cosine': \n",
      "[['great', 'very', 'wonderful', 'strong', 'fine', 'little', 'decent', 'bad', 'fun']]\n"
     ]
    },
    {
     "name": "stderr",
     "output_type": "stream",
     "text": [
      "/var/folders/f0/q7nn178n5cldx0lvl6yvbbn40000gn/T/ipykernel_69332/3032236688.py:5: RuntimeWarning: invalid value encountered in true_divide\n",
      "  return u / np.sqrt(u.dot(u))\n"
     ]
    }
   ],
   "source": [
    "def euclidean(u, v):\n",
    "    return np.linalg.norm(u-v)\n",
    "\n",
    "def length_norm(u):\n",
    "    return u / np.sqrt(u.dot(u))\n",
    "\n",
    "def cosine(u, v):\n",
    "    return 1.0 - length_norm(u).dot(length_norm(v))\n",
    "\n",
    "from sklearn.neighbors import NearestNeighbors\n",
    "\n",
    "def print_neighbors(distance, voc, co_oc, mot, k=10):\n",
    "    inv_voc = {id: w for w, id in voc.items()}\n",
    "    neigh = NearestNeighbors(n_neighbors=k, algorithm='brute', metric=distance)\n",
    "    neigh.fit(co_oc) \n",
    "    dist, ind = neigh.kneighbors([co_oc[voc[mot]]])\n",
    "    print(\"Plus proches voisins de %s selon la distance '%s': \" % (mot, distance.__name__))\n",
    "    print([[inv_voc[i] for i in s[1:]] for s in ind])\n",
    "    \n",
    "print(\"With a large context, without taking in account distance between words:\")    \n",
    "print_neighbors(euclidean, vocab_5k, M20, 'good')\n",
    "print_neighbors(cosine, vocab_5k, M20, 'good')\n",
    "print(\"\")\n",
    "print(\"With a small context, and reducing the impact of counts when words are distant:\")    \n",
    "print_neighbors(euclidean, vocab_5k, M5dist, 'good')\n",
    "print_neighbors(cosine, vocab_5k, M5dist, 'good') "
   ]
  },
  {
   "cell_type": "markdown",
   "id": "8255df76",
   "metadata": {},
   "source": [
    "#### Vector re-weighting:\n",
    "\n",
    "Similarly as before, we may want to alter the representations to obtain better features - depending on what use we will have for them.\n",
    "\n",
    "**Normalization**: Very easy: we want to cancel the influence of the magnitude of the counts on the representation.\n",
    "\n",
    "$$\\mathbf{m_{normalized}} = \\left[ \n",
    "   \\frac{m_{1}}{\\sum_{i=1}^{n}m_{i}}, \n",
    "   \\frac{m_{2}}{\\sum_{i=1}^{n}m_{i}}, \n",
    "   \\ldots\n",
    "   \\frac{m_{n}}{\\sum_{i=1}^{n}m_{i}}, \n",
    "\\right]$$\n",
    " \n",
    "**Pointwise Mutual Information**: The aim is to assess the extent to which the co-occurrence of the two terms is *unexpected*. This measure is the ratio of the joint probability of the two words and the product of their individual probabilities:\n",
    "$$\n",
    "\\text{PMI}(x,y) = \\log \\left( \\frac{P(x,y)}{P(x)P(y)} \\right)\n",
    "$$\n",
    "The joint probability of the two words corresponds to the number of times they are observed together, divided by the total number of co-occurrences in the corpus: \n",
    "$$ P(\\mathbf{M},w_{1},w_{2}) = \\frac{M_{w_{1},w_{2}}}{\\sum_{i=1}^{n}\\sum_{j=1}^{n} M_{i,j}} $$\n",
    "The individual probability of a word simply corresponds to its frequency, which can be calculated by counting all co-occurrences where that word appears:\n",
    "$$ P(\\mathbf{M},w) = \\frac{\\sum_{j=1}^{m} M_{w,j}}{\\sum_{i=1}^{n}\\sum_{j=1}^{n} M_{i,j}} $$\n",
    "Hence,\n",
    "$$ \n",
    "\\text{PMI}(\\mathbf{M},w_{1},w_{2}) = \\log  \\frac{M_{w_{1},w_{2}} \\times \\left( \\sum_{i=1}^{n}\\sum_{j=1}^{n} M_{i,j} \\right)}{\\left( \\sum_{j=1}^{n} M_{w_{1},j} \\right) \\times \\left( \\sum_{i=1}^{n}M_{i,w_{2}} \\right)} \n",
    "$$\n",
    "We thus calculate the discrepancy between the observation we have made in our corpus and the frequency of appearance of these terms if we consider them independent - i.e. we assume that their co-occurrence is a coincidence.\n",
    "\n",
    "The main problem with this measure is that it is not adapted to the case where no co-occurrence is observed. Since the PMI is supposed to return a positive quantity if more co-occurrences are observed than expected, and a negative quantity if fewer co-occurrences are observed, we cannot choose to replace $\\log(0)$ by $0$. A commonly used solution is to use the **Positive PMI**, which sets all negative values to $0$.\n",
    " \n",
    " $$ \\text{PPMI}(\\mathbf{M},w_{1},w_{2}) = \n",
    " \\begin{cases}\n",
    " \\text{PMI}(\\mathbf{M},w_{1},w_{2}) & \\textrm{if } \\text{PMI}(\\mathbf{M},w_{1},w_{2}) > 0 \\\\\n",
    " 0 & \\textrm{otherwise}\n",
    " \\end{cases} $$"
   ]
  },
  {
   "cell_type": "code",
   "execution_count": 38,
   "id": "fe82f9e5",
   "metadata": {},
   "outputs": [],
   "source": [
    "def pmi(co_oc, positive=True):\n",
    "    sum_vec = co_oc.sum(axis=0)\n",
    "    sum_tot = sum_vec.sum()\n",
    "    with np.errstate(divide='ignore'):\n",
    "        pmi = np.log((co_oc * sum_tot) / (np.outer(sum_vec, sum_vec)))                   \n",
    "    pmi[np.isinf(pmi)] = 0.0  # log(0) = 0\n",
    "    if positive:\n",
    "        pmi[pmi < 0] = 0.0\n",
    "    pmi[np.isnan(pmi)]=0\n",
    "    return pmi"
   ]
  },
  {
   "cell_type": "code",
   "execution_count": 39,
   "id": "d764929d",
   "metadata": {},
   "outputs": [
    {
     "name": "stderr",
     "output_type": "stream",
     "text": [
      "/var/folders/f0/q7nn178n5cldx0lvl6yvbbn40000gn/T/ipykernel_69332/4034637466.py:5: RuntimeWarning: invalid value encountered in true_divide\n",
      "  pmi = np.log((co_oc * sum_tot) / (np.outer(sum_vec, sum_vec)))\n"
     ]
    },
    {
     "name": "stdout",
     "output_type": "stream",
     "text": [
      "Avec la PPMI:\n",
      "Plus proches voisins de good selon la distance 'euclidean': \n",
      "[['welles', 'city,', '(one', 'dead,', '/>first', \"ain't\", 'character,', 'bourne', 'score,']]\n"
     ]
    },
    {
     "name": "stderr",
     "output_type": "stream",
     "text": [
      "/var/folders/f0/q7nn178n5cldx0lvl6yvbbn40000gn/T/ipykernel_69332/3032236688.py:5: RuntimeWarning: invalid value encountered in true_divide\n",
      "  return u / np.sqrt(u.dot(u))\n"
     ]
    },
    {
     "name": "stdout",
     "output_type": "stream",
     "text": [
      "Plus proches voisins de good selon la distance 'cosine': \n",
      "[['decent', 'great', 'bad', 'some', 'fine', 'and', 'interesting', 'excellent', 'pretty']]\n",
      "Plus proches voisins de good selon la distance 'euclidean': \n",
      "[['.', ',', 'UNK', 'is', 'it', 'and', 'writing,', 'sadly,', 'very,']]\n",
      "Plus proches voisins de good selon la distance 'cosine': \n",
      "[['some', 'acting', 'well', 'movie', 'it', 'bad', 'but', 'great', 'really']]\n"
     ]
    },
    {
     "name": "stderr",
     "output_type": "stream",
     "text": [
      "/var/folders/f0/q7nn178n5cldx0lvl6yvbbn40000gn/T/ipykernel_69332/3032236688.py:5: RuntimeWarning: invalid value encountered in true_divide\n",
      "  return u / np.sqrt(u.dot(u))\n"
     ]
    }
   ],
   "source": [
    "PPMI5 = pmi(M5dist)\n",
    "PPMI20 = pmi(M20)\n",
    "\n",
    "print(\"Avec la PPMI:\")    \n",
    "print_neighbors(euclidean, vocab_5k, PPMI5, 'good')\n",
    "print_neighbors(cosine, vocab_5k, PPMI5, 'good')\n",
    "print_neighbors(euclidean, vocab_5k, PPMI20, 'good')\n",
    "print_neighbors(cosine, vocab_5k, PPMI20, 'good')"
   ]
  },
  {
   "cell_type": "markdown",
   "id": "196fb18a",
   "metadata": {},
   "source": [
    "### 3.E Word representations through count-based methods: reducing the dimension of co-occurence matrices\n",
    "\n",
    "#### Motivation\n",
    "\n",
    "The goal is not only to reduce the size of the data representation (then, we will work with smaller pre-determined sized representations, instead of working with vectors of the size of the vocabulary) but also showcase higher-level relationships between words: by reducing their representations to the *most important dimensions* of the data, we end up *generalizing* some properties of words.\n",
    "\n",
    "#### Dimension reduction via SVD \n",
    "\n",
    "A matrix is a linear transformation: applying a SVD to it is decomposing our linear transformation in a product of linear transformations of different types. We are changing the basis and replacing our data in a different space, using **eigenvectors**:\n",
    "\n",
    "$$ \\mathbf{M} = \\mathbf{U} \\mathbf{\\lambda} \\mathbf{V}^{\\text{T}} $$\n",
    "\n",
    "Matrices $\\mathbf{U}$, $\\mathbf{\\lambda}$, and $\\mathbf{V}$ have the following properties:\n",
    "- $\\mathbf{U}$ and $\\mathbf{V}$ are orthogonal matrices ($\\mathbf{U}^{\\text{T}} = \\mathbf{U}^{-1}$ and $\\mathbf{V}^{\\text{T}} = \\mathbf{V}^{-1}$). They contain the eingenvectors to the left and to the right of $\\mathbf{M}$.\n",
    "- $\\mathbf{\\lambda}$ is a diagonal matrix: careful, it is not necessarily square. diagonal coefficient are the eigenvalues of $\\mathbf{M}$.\n",
    "\n",
    "Then, the *most important dimensions* correspond to the highest eigenvalues. Reducing our data to a dimension $k$ corresponds to only keeping vectors corresponding to the $k$ first eigenvalues - which in turns is equivalent to keeping only the first $k$ vectors of $U$. \n",
    "We use ```TruncatedSVD``` from ```scikit-learn```:"
   ]
  },
  {
   "cell_type": "code",
   "execution_count": 40,
   "id": "db88d00e",
   "metadata": {},
   "outputs": [
    {
     "name": "stdout",
     "output_type": "stream",
     "text": [
      "(5001, 300)\n",
      "Plus proches voisins de good selon la distance 'euclidean': \n",
      "[['great', 'very', 'bad', 'story', 'what', 'or', 'me', 'he', 'only']]\n",
      "Plus proches voisins de good selon la distance 'cosine': \n",
      "[['great', 'very', 'wonderful', 'strong', 'fine', 'decent', 'serious', 'weird', 'little']]\n"
     ]
    },
    {
     "name": "stderr",
     "output_type": "stream",
     "text": [
      "/var/folders/f0/q7nn178n5cldx0lvl6yvbbn40000gn/T/ipykernel_69332/3032236688.py:5: RuntimeWarning: invalid value encountered in true_divide\n",
      "  return u / np.sqrt(u.dot(u))\n"
     ]
    }
   ],
   "source": [
    "from sklearn.decomposition import TruncatedSVD\n",
    "svd = TruncatedSVD(n_components=300)\n",
    "SVDEmbeddings = svd.fit_transform(M5dist)\n",
    "print(SVDEmbeddings.shape)\n",
    "SVDEmbeddings[vocab_5k['UNK']]\n",
    "\n",
    "print_neighbors(euclidean, vocab_5k, SVDEmbeddings, 'good')\n",
    "print_neighbors(cosine, vocab_5k, SVDEmbeddings, 'good')"
   ]
  },
  {
   "cell_type": "markdown",
   "id": "725f1376",
   "metadata": {},
   "source": [
    "Note: When applying this method to the count matrix $\\mathbf{M}$ of dimension $T \\times D$, where $\\mathbf{M}_{t,d}$ contains the number of occuerences of the word $t$ in the document $d$, we obtain the method called **Latent Semantic Analysis**, which is used to detect latent (semantic) components allowing to group documents together."
   ]
  },
  {
   "cell_type": "markdown",
   "id": "d38f1811",
   "metadata": {},
   "source": [
    "#### Visualization in two dimensions\n",
    "\n",
    "We will now use **principal components analysis** (PCA) to visualize our data in two dimensions. This is equivalent to applying SVD to the covariance matrix of the data, in order for the principal components to be independant from each other an maximize the variance of the data. We use the class ```PCA``` from ```scikit-learn```: "
   ]
  },
  {
   "cell_type": "code",
   "execution_count": 41,
   "id": "c56e1553",
   "metadata": {},
   "outputs": [
    {
     "data": {
      "image/png": "[encoded data removed]",
      "text/plain": [
       "<Figure size 432x288 with 1 Axes>"
      ]
     },
     "metadata": {
      "needs_background": "light"
     },
     "output_type": "display_data"
    }
   ],
   "source": [
    "from sklearn.decomposition import PCA\n",
    "pca = PCA(n_components=2, whiten=True)\n",
    "Emb = pca.fit_transform(M5dist)\n",
    "\n",
    "words = ['bad', 'good', 'best', 'worst', 'poor', 'great',\n",
    "         'dialog', 'role', 'actor', 'camera', 'scene',\n",
    "         'film', 'movie', 'award']\n",
    "ind_words = [vocab_5k[w] for w in words]\n",
    "x_words = [Emb[ind,0] for ind in ind_words]\n",
    "y_words = [Emb[ind,1] for ind in ind_words]\n",
    "\n",
    "fig, ax = plt.subplots()\n",
    "ax.scatter(x_words, y_words)\n",
    "\n",
    "for i, w in enumerate(words):\n",
    "    ax.annotate(w, (x_words[i], y_words[i]), (x_words[i] + 0.001, y_words[i] + 0.001))"
   ]
  },
  {
   "cell_type": "code",
   "execution_count": 79,
   "id": "775772cb",
   "metadata": {},
   "outputs": [
    {
     "name": "stderr",
     "output_type": "stream",
     "text": [
      "/var/folders/f0/q7nn178n5cldx0lvl6yvbbn40000gn/T/ipykernel_69332/2730850099.py:1: RuntimeWarning: invalid value encountered in true_divide\n",
      "  Norm5 = M5dist / np.linalg.norm(M5dist, ord=2, axis=1, keepdims=True)\n"
     ]
    },
    {
     "data": {
      "image/png": "[encoded data removed]",
      "text/plain": [
       "<Figure size 432x288 with 1 Axes>"
      ]
     },
     "metadata": {
      "needs_background": "light"
     },
     "output_type": "display_data"
    }
   ],
   "source": [
    "Norm5 = M5dist / np.linalg.norm(M5dist, ord=2, axis=1, keepdims=True)\n",
    "Norm5 = pd.DataFrame(Norm5).fillna(0)\n",
    "Norm5 = Norm5.to_numpy()\n",
    "\n",
    "pca = PCA(n_components=2, whiten=True)\n",
    "Emb = pca.fit_transform(Norm5)\n",
    "\n",
    "words = ['bad', 'good', 'best', 'worst', 'poor', 'great',\n",
    "         'dialog', 'role', 'actor', 'camera', 'scene',\n",
    "         'film', 'movie', 'award']\n",
    "ind_words = [vocab_5k[w] for w in words]\n",
    "x_words = [Emb[ind,0] for ind in ind_words]\n",
    "y_words = [Emb[ind,1] for ind in ind_words]\n",
    "\n",
    "fig, ax = plt.subplots()\n",
    "ax.scatter(x_words, y_words)\n",
    "\n",
    "for i, w in enumerate(words):\n",
    "    ax.annotate(w, (x_words[i], y_words[i]), (x_words[i] + 0.001, y_words[i] + 0.001))"
   ]
  },
  {
   "cell_type": "markdown",
   "id": "b034f388",
   "metadata": {},
   "source": [
    "### 3.F Word representations through prediction-based methods: commonly used algorithms\n",
    "\n",
    "The idea here is to define a set of representations ${w_{i}}_{i=1}^{V}$, of predefined dimension $d$ (here, we will work with $d = 300$), for all the words $i$ of the vocabulary $V$ - then **train** these representations to match what we want. "
   ]
  },
  {
   "cell_type": "markdown",
   "id": "00114b96",
   "metadata": {},
   "source": [
    "#### Word2Vec\n",
    "\n",
    "\n",
    "**Reminder: The skip-gram model**\n",
    "\n",
    "The basic skip-gram model estimates the probabilities of a pair of words $(i, j)$ to appear together in data:\n",
    "\n",
    "$$P(j \\mid i) = \\frac{\\exp(w_{i} c_{j})}{\\sum_{j'\\in V}\\exp(w_{i} c_{j'})}$$\n",
    "\n",
    "\n",
    "where $w_{i}$ is the lign vector (of the word) $i$ and $c_{j}$ is the column vector (of a context word) $j$. The objective is to minimize the following quantity:\n",
    "\n",
    "\n",
    "$$ -\\sum_{i=1}^{m} \\sum_{k=1}^{|V|} \\textbf{1}\\{o_{i}=k\\} \\log \\frac{\\exp(w_{i} c_{k})}{\\sum_{j=1}^{|V|} \\exp(w_{i} c_{j})}$$\n",
    "\n",
    "\n",
    "where $V$ is the vocabulary.\n",
    "The inputs $w_{i}$ are the representations of the words, which are updated during training, and the output is an *one-hot* $o$ vector, which contains only one $1$ and $0$. For example, if `good` is the 47th word in the vocabulary, the output $o$ for an example or `good` is the word to predict will consist of $0$s everywhere except $1$ in the 47th position of the vector. `good` will be the word to predict when the input $w$ is a word in its context.\n",
    "We therefore obtain this output with standard softmax - we add a bias term $b$ .\n",
    "\n",
    "\n",
    "$$ o = \\textbf{softmax}(w_{a}C + b)$$\n",
    "\n",
    "\n",
    "If we use the set of representations for the whole vocabulary (the matrix $W$) as input, we get:\n",
    "\n",
    "\n",
    "$$ O = \\textbf{softmax}(WC + b)$$\n",
    "\n",
    "\n",
    "and so we come back to the central idea of all our methods: we seek to obtain word representations from co-occurrence counts. Here, we train the parameters contained in $W$ and $C$, two matrices representing the words in reduced dimension (300) so that their scalar product is as close as possible to the co-occurrences observed in the data, using a maximum likelihood objective.\n",
    "\n",
    "#### Skip-gram with negative sampling\n",
    "\n",
    "The training of the skip-gram model implies to calculate a sum on the whole vocabulary, because of the **softmax**. As soon as the size of the vocabulary increases, it becomes impossible to compute. In order to make the calculations faster, we change the objective and use the method of *negative sampling* (or, very close to it, the *noise contrastive estimation*).\n",
    "\n",
    "\n",
    "If we note $\\mathcal{D}$ the data set and we note $\\mathcal{D}'$ a set of pairs of words that are **not** in the data (and that in practice, we draw randomly), the objective is:\n",
    "\n",
    "\n",
    "$$\\sum_{i, j \\in \\mathcal{D}}-\\log\\sigma(w_{i}c_{j}) + \\sum_{i, j \\in \\mathcal{D}'}\\log\\sigma(w_{i}c_{j})$$\n",
    "\n",
    "\n",
    "where $\\sigma$ is the sigmoid activation function $\\frac{1}{1 + \\exp(-x)}$.\n",
    "A common practice is to generate pairs from $\\mathcal{D}'$ in proportion to the frequencies of the words in the training data (the so-called unigram distribution):\n",
    "\n",
    "\n",
    "$$P(w) = \\frac{\\textbf{T}(w)^{0.75}}{\\sum_{w'\\in V} \\textbf{T}(w')}$$\n",
    "\n",
    "\n",
    "Although different, this new objective function is a sufficient approximation of the previous one, and is based on the same principle. Much research has been done on this objective: for example, [Levy and Golberg 2014](http://papers.nips.cc/paper/5477-neural-word-embedding-as-implicit-matrix-factorization) shows that the objective calculates the PMI matrix shifted by a constant value. One can also see [Cotterell et al. 2017](https://aclanthology.coli.uni-saarland.de/papers/E17-2028/e17-2028) for an interpretation of the algorithm as a variant of PCA."
   ]
  },
  {
   "cell_type": "markdown",
   "id": "465cd4c1",
   "metadata": {},
   "source": [
    "We will use the ```gensim``` library for its implementation of word2vec in python. We'll have to make a specific use of it, since we want to keep the same vocabulary as before: we'll first create the class, then get the vocabulary we generated above. \n",
    "To avoid having to put all the data in memory all at once, we define a generator, which will take all the input data and pre-process it, and return to the ```Word2Vec``` class sentence by sentence. "
   ]
  },
  {
   "cell_type": "code",
   "execution_count": 47,
   "id": "b84c4689",
   "metadata": {},
   "outputs": [],
   "source": [
    "from gensim.models import Word2Vec\n",
    "\n",
    "model = Word2Vec(window=5,\n",
    "                 null_word=len(word_counts_5k))\n",
    "model.build_vocab_from_freq(word_counts_5k)"
   ]
  },
  {
   "cell_type": "code",
   "execution_count": 48,
   "id": "74b74ec8",
   "metadata": {},
   "outputs": [],
   "source": [
    "preprocessed_corpus = [word_tokenize(train_texts[i]) for i in range(len(train_texts))]"
   ]
  },
  {
   "cell_type": "code",
   "execution_count": 49,
   "id": "de520b42",
   "metadata": {},
   "outputs": [
    {
     "data": {
      "text/plain": [
       "(79399662, 141306660)"
      ]
     },
     "execution_count": 49,
     "metadata": {},
     "output_type": "execute_result"
    }
   ],
   "source": [
    "model.train(preprocessed_corpus, total_examples=len(train_texts), epochs=20, report_delay=1)"
   ]
  },
  {
   "cell_type": "code",
   "execution_count": 50,
   "id": "c68e0a71",
   "metadata": {},
   "outputs": [],
   "source": [
    "W2VEmbeddings = model.wv.vectors"
   ]
  },
  {
   "cell_type": "markdown",
   "id": "9f4db6b3",
   "metadata": {},
   "source": [
    "#### Glove\n",
    "\n",
    "The objective defined by Glove ([Pennington et al. (2014)](http://www.aclweb.org/anthology/D/D14/D14-1162.pdf)) is to learn from the vectors $w_{i}$ and $w_{k}$ so that their scalar product corresponds to the logarithm of their **Pointwise Mutual Information**: \n",
    "\n",
    "\n",
    "$$ w_{i}^\\top w_{k} = (PMI(w_{i}, w_{k}))$$\n",
    "\n",
    "\n",
    "In the article, this objective is carefully justified by a reasoning about the operations one wants to perform with these vectors and the properties they should have - in particular, symmetry between rows and columns (see the article for more details).  \n",
    "The final goal obtained is the following, where $M$ is the co-occurrence matrix:\n",
    "\n",
    "\n",
    "$$\\sum_{i, j=1}^{|V|} f\\left(M_{ij}\\right)\n",
    "  \\left(w_i^\\top w_j + b_i + b_j - \\log M_{ij}\\right)^2$$\n",
    "  \n",
    " \n",
    "Here, $f$ is a *scaling* function that reduces the importance of the most frequent co-occurrence counts: \n",
    "\n",
    "\n",
    "$$f(x) \n",
    "\\begin{cases}\n",
    "(x/x_{\\max})^{\\alpha} & \\textrm{if } x < x_{\\max} \\\\\n",
    "1 & \\textrm{otherwise}\n",
    "\\end{cases}$$\n",
    "\n",
    "\n",
    "Usually, we choose $\\alpha=0.75$ and $x_{\\max} = 100$, although these parameters may need to be changed depending on the data."
   ]
  },
  {
   "cell_type": "markdown",
   "id": "014dc0f2",
   "metadata": {},
   "source": [
    "The following code uses the gensim API to retrieve pre-trained representations (It is normal that the loading is long)."
   ]
  },
  {
   "cell_type": "code",
   "execution_count": 51,
   "id": "f174baf3",
   "metadata": {},
   "outputs": [],
   "source": [
    "import gensim.downloader as api\n",
    "loaded_glove_model = api.load(\"glove-wiki-gigaword-300\")"
   ]
  },
  {
   "cell_type": "markdown",
   "id": "af01a4ff",
   "metadata": {},
   "source": [
    "We can extract the embedding matrix this way, and check its size:"
   ]
  },
  {
   "cell_type": "code",
   "execution_count": 52,
   "id": "4e4feb5b",
   "metadata": {},
   "outputs": [
    {
     "name": "stdout",
     "output_type": "stream",
     "text": [
      "(400000, 300)\n"
     ]
    }
   ],
   "source": [
    "loaded_glove_embeddings = loaded_glove_model.vectors\n",
    "print(loaded_glove_embeddings.shape)"
   ]
  },
  {
   "cell_type": "markdown",
   "id": "a093acda",
   "metadata": {},
   "source": [
    "We can see that there are $400,000$ words represented, and that the embeddings are of size $300$. We define a function that returns, from the loaded model, the vocabulary and the embedding matrix according to the structures we used before. We add, here again, an unknown word \"UNK\" in case there are words in our data that are not part of the $400,000$ words represented here. "
   ]
  },
  {
   "cell_type": "code",
   "execution_count": 53,
   "id": "2fa17499",
   "metadata": {},
   "outputs": [],
   "source": [
    "def get_glove_voc_and_embeddings(glove_model):\n",
    "    voc = {word : index for word, index in enumerate(glove_model.index_to_key)}\n",
    "    voc['UNK'] = len(voc)\n",
    "    embeddings = glove_model.vectors\n",
    "    return voc, embeddings"
   ]
  },
  {
   "cell_type": "code",
   "execution_count": 54,
   "id": "0c149df4",
   "metadata": {},
   "outputs": [],
   "source": [
    "loaded_glove_voc, loaded_glove_embeddings = get_glove_voc_and_embeddings(loaded_glove_model)"
   ]
  },
  {
   "cell_type": "markdown",
   "id": "d8c53ef9",
   "metadata": {},
   "source": [
    "In order to compare the representations loaded here and the ones produced with word2vec, the same vocabulary should be used. For this purpose, I reuse the following code to create a $5000$ word vocabulary from the data, and I add at the end a function that returns the matrix of representations loaded with Glove for these $5000$ words only, in the right order. "
   ]
  },
  {
   "cell_type": "code",
   "execution_count": 55,
   "id": "634ee2c8",
   "metadata": {},
   "outputs": [],
   "source": [
    "def get_glove_adapted_embeddings(glove_model, input_voc):\n",
    "    keys = {i: glove_model.key_to_index.get(w, None) for w, i in input_voc.items()}\n",
    "    index_dict = {i: key for i, key in keys.items() if key is not None}\n",
    "    embeddings = np.zeros((len(input_voc),glove_model.vectors.shape[1]))\n",
    "    for i, ind in index_dict.items():\n",
    "        embeddings[i] = glove_model.vectors[ind]\n",
    "    return embeddings"
   ]
  },
  {
   "cell_type": "code",
   "execution_count": 56,
   "id": "00452da0",
   "metadata": {},
   "outputs": [],
   "source": [
    "GloveEmbeddings = get_glove_adapted_embeddings(loaded_glove_model, vocab_5k)"
   ]
  },
  {
   "cell_type": "markdown",
   "id": "5c68258e",
   "metadata": {},
   "source": [
    "This function takes as input the model loaded using the Gensim API, as well as a vocabulary we created ourselves, and returns the embedding matrix from the loaded model, for the words in our vocabulary and in the right order.\n",
    "Note: unknown words are represented by a vector of zeros:"
   ]
  },
  {
   "cell_type": "code",
   "execution_count": 57,
   "id": "720fd8bd",
   "metadata": {},
   "outputs": [
    {
     "name": "stdout",
     "output_type": "stream",
     "text": [
      "(5001, 300)\n"
     ]
    },
    {
     "data": {
      "text/plain": [
       "array([0., 0., 0., 0., 0., 0., 0., 0., 0., 0., 0., 0., 0., 0., 0., 0., 0.,\n",
       "       0., 0., 0., 0., 0., 0., 0., 0., 0., 0., 0., 0., 0., 0., 0., 0., 0.,\n",
       "       0., 0., 0., 0., 0., 0., 0., 0., 0., 0., 0., 0., 0., 0., 0., 0., 0.,\n",
       "       0., 0., 0., 0., 0., 0., 0., 0., 0., 0., 0., 0., 0., 0., 0., 0., 0.,\n",
       "       0., 0., 0., 0., 0., 0., 0., 0., 0., 0., 0., 0., 0., 0., 0., 0., 0.,\n",
       "       0., 0., 0., 0., 0., 0., 0., 0., 0., 0., 0., 0., 0., 0., 0., 0., 0.,\n",
       "       0., 0., 0., 0., 0., 0., 0., 0., 0., 0., 0., 0., 0., 0., 0., 0., 0.,\n",
       "       0., 0., 0., 0., 0., 0., 0., 0., 0., 0., 0., 0., 0., 0., 0., 0., 0.,\n",
       "       0., 0., 0., 0., 0., 0., 0., 0., 0., 0., 0., 0., 0., 0., 0., 0., 0.,\n",
       "       0., 0., 0., 0., 0., 0., 0., 0., 0., 0., 0., 0., 0., 0., 0., 0., 0.,\n",
       "       0., 0., 0., 0., 0., 0., 0., 0., 0., 0., 0., 0., 0., 0., 0., 0., 0.,\n",
       "       0., 0., 0., 0., 0., 0., 0., 0., 0., 0., 0., 0., 0., 0., 0., 0., 0.,\n",
       "       0., 0., 0., 0., 0., 0., 0., 0., 0., 0., 0., 0., 0., 0., 0., 0., 0.,\n",
       "       0., 0., 0., 0., 0., 0., 0., 0., 0., 0., 0., 0., 0., 0., 0., 0., 0.,\n",
       "       0., 0., 0., 0., 0., 0., 0., 0., 0., 0., 0., 0., 0., 0., 0., 0., 0.,\n",
       "       0., 0., 0., 0., 0., 0., 0., 0., 0., 0., 0., 0., 0., 0., 0., 0., 0.,\n",
       "       0., 0., 0., 0., 0., 0., 0., 0., 0., 0., 0., 0., 0., 0., 0., 0., 0.,\n",
       "       0., 0., 0., 0., 0., 0., 0., 0., 0., 0., 0.])"
      ]
     },
     "execution_count": 57,
     "metadata": {},
     "output_type": "execute_result"
    }
   ],
   "source": [
    "print(GloveEmbeddings.shape)\n",
    "GloveEmbeddings[vocab_5k['UNK']]"
   ]
  },
  {
   "cell_type": "markdown",
   "id": "070ebd9b",
   "metadata": {},
   "source": [
    "## 4 - Application to sentiment analysis\n",
    "\n",
    "We will now use these representations for sentiment analysis. \n",
    "The basic model, as before, will be constructed in two steps:\n",
    "- A function to obtain vector representations of criticism, from text, vocabulary, and vector representations of words. Such a function (to be completed below) will associate to each word of a review its embeddings, and create the representation for the whole sentence by summing these embeddings.\n",
    "- A classifier will take these representations as input and make a prediction. To achieve this, we can first use logistic regression ```LogisticRegression``` from ```scikit-learn```  "
   ]
  },
  {
   "cell_type": "markdown",
   "id": "d847ad44",
   "metadata": {},
   "source": [
    "<div class='alert alert-block alert-info'>\n",
    "            Code:</div>"
   ]
  },
  {
   "cell_type": "code",
   "execution_count": 58,
   "id": "05a65c1c",
   "metadata": {},
   "outputs": [],
   "source": [
    "def sentence_representations(texts, vocabulary, embeddings, np_func=np.sum):\n",
    "    \"\"\"\n",
    "    Represent the sentences as a combination of the vector of its words.\n",
    "    Parameters\n",
    "    ----------\n",
    "    texts : a list of sentences   \n",
    "    vocabulary : dict\n",
    "        From words to indexes of vector.\n",
    "    embeddings : Matrix containing word representations\n",
    "    np_func : function (default: np.sum)\n",
    "        A numpy matrix operation that can be applied columnwise, \n",
    "        like `np.mean`, `np.sum`, or `np.prod`. \n",
    "    Returns\n",
    "    -------\n",
    "    np.array, dimension `(len(texts), embeddings.shape[1])`            \n",
    "    \"\"\"\n",
    "    representations=np.zeros((len(texts), embeddings.shape[1]))\n",
    "\n",
    "    i=0\n",
    "    N_doc = len(texts)\n",
    "    print('Number of doc :',N_doc)\n",
    "    for doc in texts:\n",
    "        representation=[]\n",
    "        for word in word_tokenize(doc):\n",
    "            if word in vocabulary:\n",
    "                representation.append(embeddings[vocabulary[word]])\n",
    "                \n",
    "\n",
    "        representation=np.apply_along_axis(np_func, 0,representation)\n",
    "                \n",
    "        representations[i,:]=representation\n",
    "        i+=1\n",
    "                \n",
    "    return representations"
   ]
  },
  {
   "cell_type": "code",
   "execution_count": 59,
   "id": "5db7f488",
   "metadata": {},
   "outputs": [
    {
     "name": "stdout",
     "output_type": "stream",
     "text": [
      "Number of doc : 200\n",
      "Number of doc : 50\n"
     ]
    }
   ],
   "source": [
    "train_rep = sentence_representations(train_texts_splt, vocab_5k, GloveEmbeddings)\n",
    "val_rep = sentence_representations(val_texts, vocab_5k, GloveEmbeddings)"
   ]
  },
  {
   "cell_type": "markdown",
   "id": "75f44c99",
   "metadata": {},
   "source": [
    "<div class='alert alert-block alert-info'>\n",
    "            Code:</div>"
   ]
  },
  {
   "cell_type": "code",
   "execution_count": 60,
   "id": "ca7b0013",
   "metadata": {},
   "outputs": [
    {
     "name": "stderr",
     "output_type": "stream",
     "text": [
      "/Users/pierreloviton/opt/anaconda3/lib/python3.9/site-packages/sklearn/linear_model/_logistic.py:444: ConvergenceWarning: lbfgs failed to converge (status=1):\n",
      "STOP: TOTAL NO. of ITERATIONS REACHED LIMIT.\n",
      "\n",
      "Increase the number of iterations (max_iter) or scale the data as shown in:\n",
      "    https://scikit-learn.org/stable/modules/preprocessing.html\n",
      "Please also refer to the documentation for alternative solver options:\n",
      "    https://scikit-learn.org/stable/modules/linear_model.html#logistic-regression\n",
      "  n_iter_i = _check_optimize_result(\n"
     ]
    },
    {
     "name": "stdout",
     "output_type": "stream",
     "text": [
      "              precision    recall  f1-score   support\n",
      "\n",
      "           0       0.76      0.80      0.78        20\n",
      "           1       0.86      0.83      0.85        30\n",
      "\n",
      "    accuracy                           0.82        50\n",
      "   macro avg       0.81      0.82      0.81        50\n",
      "weighted avg       0.82      0.82      0.82        50\n",
      "\n"
     ]
    },
    {
     "data": {
      "image/png": "[encoded data removed]",
      "text/plain": [
       "<Figure size 432x288 with 2 Axes>"
      ]
     },
     "metadata": {
      "needs_background": "light"
     },
     "output_type": "display_data"
    }
   ],
   "source": [
    "from sklearn.linear_model import LogisticRegression\n",
    "\n",
    "# Fit the classifier on the transformed training data and test it on the transformed validation data\n",
    "LR=LogisticRegression()\n",
    "LR.fit(train_rep,train_labels_splt)\n",
    "pred=LR.predict(val_rep)\n",
    "cm=confusion_matrix(y_true=val_labels,y_pred=pred)\n",
    "ConfusionMatrixDisplay(cm).plot()\n",
    "report=classification_report(y_true=val_labels,y_pred=pred)\n",
    "print(report)"
   ]
  },
  {
   "cell_type": "markdown",
   "id": "5970a0cd",
   "metadata": {},
   "source": [
    "<div class='alert alert-block alert-warning'>\n",
    "            Questions:</div>\n",
    "\n",
    "You can know compare the various sets of embeddings, and answer the following questions:\n",
    "- Why could we expect that the results obtained with embeddings pre-trained with Glove are better than others ? Is that verified ? And what changes if we remove the constraint of having the same 5000 words vocabulary as the other methods ? \n",
    "- Which matrix that we can reduce the dimension of gives the best results ? "
   ]
  },
  {
   "cell_type": "raw",
   "id": "049171a3-1b94-4e3e-8547-b44e2b4767fb",
   "metadata": {},
   "source": [
    "- Glove is train on a larger dataset, a word have more chance to have been trained with different context, it implies that the embedding is better.\n",
    "In practice it is verified. We have good performance in term of accuracy (82%) but it is very close to other methods used during this lab. Some methodand the previous ones were more around 60-70%. This result can be  due also to the number of data collected for the training part (250 vs 5000 words)."
   ]
  }
 ],
 "metadata": {
  "kernelspec": {
   "display_name": "Python 3 (ipykernel)",
   "language": "python",
   "name": "python3"
  },
  "language_info": {
   "codemirror_mode": {
    "name": "ipython",
    "version": 3
   },
   "file_extension": ".py",
   "mimetype": "text/x-python",
   "name": "python",
   "nbconvert_exporter": "python",
   "pygments_lexer": "ipython3",
   "version": "3.9.7"
  }
 },
 "nbformat": 4,
 "nbformat_minor": 5
}
